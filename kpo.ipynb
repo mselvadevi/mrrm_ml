{
 "cells": [
  {
   "cell_type": "code",
   "execution_count": null,
   "id": "25818528-6ac1-48b4-acc6-9b58bf0c00dc",
   "metadata": {
    "tags": []
   },
   "outputs": [],
   "source": [
    "import os, re, json,pandas as pd"
   ]
  },
  {
   "cell_type": "code",
   "execution_count": null,
   "id": "d7bd3d8a-15c2-4004-8543-c69fced95b8e",
   "metadata": {},
   "outputs": [],
   "source": [
    "my_text = \"Patient has hx of stroke. Mother diagnosed with diabetes. No evidence of pna.\"\n"
   ]
  },
  {
   "cell_type": "code",
   "execution_count": null,
   "id": "9306888a-9a45-42c8-878f-ef28c4e79dfa",
   "metadata": {
    "tags": []
   },
   "outputs": [],
   "source": [
    "file_name = r\"C:\\Users\\murugesan_r\\OneDrive - Prelude Systems Inc\\PRELUDESYS\\GITHUB\\KPO\\datasets\\11-04-2023\\21-123-1913.txt\"\n",
    "dir_path = r\"C:\\Users\\murugesan_r\\OneDrive - Prelude Systems Inc\\PRELUDESYS\\GITHUB\\KPO\\datasets\\AI_KPO_Apr18 (1)\"\n",
    "dir_path = r\"C:\\Users\\murugesan_r\\OneDrive - Prelude Systems Inc\\PRELUDESYS\\GITHUB\\KPO\\DATA-SETS\\MAY\"\n",
    "\n",
    "\n",
    "def txt_to_json(dir_path = dir_path, file_type=\".txt\"):\n",
    "    print(f'Directory:{dir_path} and Files are {os.listdir(dir_path)}')\n",
    "    if dir_path and os.path.isdir(dir_path):\n",
    "        all_txt_file = [ os.path.join(dir_path,file) for file in os.listdir(dir_path) if file.endswith(file_type) and os.path.isfile(os.path.join(dir_path,file))]\n",
    "        for file in all_txt_file:\n",
    "            with open(file,'rU',encoding=\"utf8\",) as fp:\n",
    "                print(f'File:{file}')\n",
    "                content = json.load(fp)\n",
    "                json_file_name = file.replace('.txt', \".json\")\n",
    "                with open(json_file_name,\"w\") as fout:\n",
    "                    json.dump(content,fout,indent =4)\n",
    "        return 0\n",
    "    else:\n",
    "        print(f'Directory:{dir_path} does not exist')              \n",
    "        return -1\n",
    "# content = []\n",
    "# import re, json\n",
    "# with open(file_name,\"r\",encoding=\"utf8\") as fp:\n",
    "#     content = json.load(fp)\n",
    "#     fp = open(\"sample.json\",\"w\") \n",
    "#     json.dump(content,fp,indent =4)\n",
    "#     print(content[1])\n",
    "#     # content = re.sub(r\"\\n\",r\"\\\\n\",content)\n",
    "    # print(content)\n",
    "# txt_to_json(dir_path,file_type='.txt')\n",
    "\n",
    "\n",
    "def clean_json(dir_path = dir_path, file_type=\".json\"):\n",
    "    print(f'Directory:{dir_path} and Files are {os.listdir(dir_path)}')\n",
    "    if dir_path and os.path.isdir(dir_path):\n",
    "        all_txt_file = [ os.path.join(dir_path,file) for file in os.listdir(dir_path) if file.endswith(file_type) and os.path.isfile(os.path.join(dir_path,file))]\n",
    "        for file in all_txt_file:\n",
    "            with open(file,\"r\",encoding=\"utf8\") as fp:\n",
    "                print(f'File:{file}')\n",
    "                content = json.load(fp)\n",
    "                for index, entry in enumerate(content) :\n",
    "                    if entry.get(\"Type \") == \"Image\":\n",
    "                        entry[\"Type\"] = \"Image\"\n",
    "                        entry[\"ImageText\"] = \" \".join(entry[\"ImageText\"])\n",
    "                        entry.pop(\"Data\",None)\n",
    "                        entry.pop(\"Type \",None)\n",
    "                        continue\n",
    "                    elif  entry.get(\"Type\") == \"Text\":\n",
    "                        entry[\"ImageText\"] = str(entry.get(\"Data\") )\n",
    "                        entry.pop(\"Data\",None)\n",
    "                        # content.pop(index)\n",
    "\n",
    "                cleaned_json_file_name = os.path.join(dir_path,file.replace(file_type, \"_cleaned.json\") )\n",
    "                print(cleaned_json_file_name)\n",
    "                with open(cleaned_json_file_name,\"w\") as fout:\n",
    "                    json.dump(content,fout,indent =4)\n",
    "                df = pd.read_json(cleaned_json_file_name)\n",
    "                # print(df.columns,df.info())\n",
    "        return 0\n",
    "    else:\n",
    "        print(f'Directory:{dir_path} does not exist')              \n",
    "        return -1 \n",
    "clean_json(dir_path = dir_path, file_type=\".txt\")"
   ]
  },
  {
   "cell_type": "code",
   "execution_count": null,
   "id": "9c95b0f9-de51-43f2-b840-988e9af16d7d",
   "metadata": {},
   "outputs": [],
   "source": [
    "def split_json()"
   ]
  },
  {
   "cell_type": "code",
   "execution_count": null,
   "id": "4d08f8e6-73a0-49f2-b4b9-1269f8c3fa20",
   "metadata": {
    "tags": []
   },
   "outputs": [],
   "source": [
    "import random\n",
    "a =[1,2,3,4,5,6,6,7,8,8,8,9]\n",
    "random.sample(a, int(0.8 *len(a)) )"
   ]
  },
  {
   "cell_type": "code",
   "execution_count": null,
   "id": "e4493637-1c02-47f0-9c5c-9717ad9fd34a",
   "metadata": {
    "tags": []
   },
   "outputs": [],
   "source": [
    "import random\n",
    "def combine_json(dir_path = dir_path, file_type=\".json\"):\n",
    "    print(f'Directory:{dir_path} and Files are {os.listdir(dir_path)}')\n",
    "    if dir_path and os.path.isdir(dir_path):\n",
    "        all_txt_file = [ os.path.join(dir_path,file) for file in os.listdir(dir_path) if file.endswith(file_type) and os.path.isfile(os.path.join(dir_path,file))]\n",
    "        content_all = []\n",
    "        for file in all_txt_file:\n",
    "            with open(file,\"r\",encoding=\"utf8\") as fp:\n",
    "                print(f'File:{file}')\n",
    "                content_all.extend(json.load(fp))\n",
    "        if content_all:\n",
    "            # content_all = random.sample(content_all, int(0.8 *len(content_all)))\n",
    "            cleaned_json_file_name = os.path.join(dir_path,f\"combined_cleaned.json\") \n",
    "            print(cleaned_json_file_name)\n",
    "            with open(cleaned_json_file_name,\"w\") as fout:\n",
    "                json.dump(content_all,fout,indent =4)\n",
    "            df = pd.read_json(cleaned_json_file_name)\n",
    "\n",
    "        return 0\n",
    "    else:\n",
    "        print(f'Directory:{dir_path} does not exist')              \n",
    "        return -1 \n",
    "# combine_json(dir_path = dir_path, file_type=\".json\")"
   ]
  },
  {
   "cell_type": "code",
   "execution_count": null,
   "id": "6a6acdb3-e010-42f4-a363-3b0c0ab9b6a9",
   "metadata": {},
   "outputs": [],
   "source": [
    "def clean_json(dir_path = dir_path, file_type=\".json\"):\n",
    "    print(f'Directory:{dir_path} and Files are {os.listdir(dir_path)}')\n",
    "    if dir_path and os.path.isdir(dir_path):\n",
    "        all_txt_file = [ os.path.join(dir_path,file) for file in os.listdir(dir_path) if file.endswith(file_type) and os.path.isfile(os.path.join(dir_path,file))]\n",
    "        for file in all_txt_file:\n",
    "            with open(file,\"r\",encoding=\"utf8\") as fp:\n",
    "                print(f'File:{file}')\n",
    "                content = json.load(fp)\n",
    "                for index, entry in enumerate(content) :\n",
    "                    if entry.get(\"Type \") == \"Image\":\n",
    "                        \n",
    "                        continue\n",
    "                    else:\n",
    "                        content.pop(index)\n",
    "                cleaned_json_file_name = file.replace('.json', \"_cleaned.json\")\n",
    "                with open(cleaned_json_file_name,\"w\") as fout:\n",
    "                    json.dump(content,fout,indent =4)\n",
    "                df = pd.read_json(cleaned_json_file_name)\n",
    "                print(df.columns,df.info())\n",
    "        return 0\n",
    "    else:\n",
    "        print(f'Directory:{dir_path} does not exist')              \n",
    "        return -1 \n",
    "clean_json(dir_path = dir_path, file_type=\".txt\")"
   ]
  },
  {
   "cell_type": "code",
   "execution_count": null,
   "id": "577006ae-1803-4f10-8ace-9e88dd9ec66a",
   "metadata": {
    "tags": []
   },
   "outputs": [],
   "source": [
    "!dir"
   ]
  },
  {
   "cell_type": "code",
   "execution_count": null,
   "id": "524bc4cb-aa28-4980-9ea7-f8ef01242177",
   "metadata": {},
   "outputs": [],
   "source": []
  },
  {
   "cell_type": "code",
   "execution_count": null,
   "id": "ae26d1eb-e317-4802-86e8-1ece6d89462a",
   "metadata": {
    "tags": []
   },
   "outputs": [],
   "source": [
    "my_text = \"IN THE NAME OF THE PEOPLE OF THE STATE OF ILLINOISILLINOIS WORKERS' COMPENSATION COMMISSIONSUBPOENAgee   DsPsMARIA SANCHEZ,                                                                           Case # 21 WC 24832Employee/PetitionerV.                                                                                                          CHICAGOCHRIST HOSPITAL,Employer/RespondentTo:    VIA U.S. MAILATTN: MEDICAL RECORDSBridgeview Medical Center7124 West 83$!!$ Street                                URGENT SUBPOENA REQUESTThis Subpoena will not require your personalappearance if you submit either your original or legiblephotocopies of your original records by the dateindicated below. A$25.00subpeenafeeisenelosed.:Bridgeview, IL 60455YOU ARE COMMANDED TO PROVIDE THE FOLLOWING ITEMS THAT ARE IN YOUR POSSESSION OR CONTROL:ANY AND ALL ANY AND ALL reports and films; any diagnostic studies of any kind on CD including butnot limited to MRI's, X-Rays, and CT Scans, any and all written records and other documents in yourpossession or control pertaining to MARIA SANCHEZ (last known address: 5114 W. 113th Place, Alsip, IL60803; DOB: 04/23/1966; DOA: 01/19/2021; SSN: ***-**-****) FROM 01/01/2021 TO THE PRESENTDATE.WE ARE REQUESTING THE REQUESTED MEDICAL RECORDS BE PROVIDED IN ELECTRONICFORMAT, EITHER VIA EMAIL TO THE UNDERSIGNED ATTORNEY, OR ON DISK. IF RECORDSARE NOT STORED ELECTRONICALLY, PLEASE CONTACT THE OFFICE TO PROVIDE ANEXPLANATION AS REQUIRED BY 735 ILCS 5/8-2001 BEFORE TRANSMITTING PAPER RECORDS.   MAIL THE ITEMS TO THE ADDRESS:Padraig McCoid of Nyhan, Bambrick, Kinzie & Lowry, P.C.20 North Clark Street, Suite 1000Chicago, Illinois 60602-4195Fax: 312.629.8518Or via email to the undersigned attorneyBY THE DATE NOVEMBER 11, 2022. YOU DO NOT NEED TO APPEAR AT THE COMMISSION. DO NOT MAILTHE ITEMS TO THE COMMISSION.Padraig McCoid                                               (312) 629-9800                                  records@nbklilaw.comName of person requesting this subpoena                      Telephone number                                 Email addressFAILURE TO RESPONDTO THIS SUBPOENA MAY SUBJECTYOU TO THE PENALTIESNA,PRESCRIBED BY LAW.(SEE STATUTES: 820 ILCS 305/16; RULES: 7030.50)         J. BrennenDate: October 31, 2022IC16 3/1069 W. Washington Street, Suite 900 Chicago, IL 60602 312/814-6611 Toll-free 866/352-3033 Web site: www.iwece..govDownstate offices: Collinsville 618/346-3450  Peora 309/671-3019  Rockford 815/987-7292  Springfield 217/785-708400191 1-139D\",\n",
    "my_text = \"Chart NotesBRIDGEVIEW CHIROPRACTIC CENTER7124 WEST 83RD STREETMaria Sanchez                                                                                         BRIDGEVIEW IL 60455Phone: (708)599-9250Fax: (708)599-9470Patient: Sanchez, Maria                Acct #: 95240                       DOB: 04/23/1966Ins Co:                                           Pol #:                                            Insured ID:Date    02/19/2021Provider: Rashid Abu-Shanab, DC, MS, IMESubjective:Daily Encounter: treatment for acute/active care- Chief Complaint: lumbar, left lumbar, right lumbar, lower thoracic and sacral dull and aching discomfort.~ Subjective/Patient Assessment: Maria stated this complaint has improved since the last visit.  She reportsher ability to participate with walking, traveling and/or driving, standing, sitting and lifting has improved with thiscomplaint while lying down, walking, standing and sitting. 5/10 reported using the Visual Analog Scale.Objective:Daily Objective Findings:- Spinal Restriction(s)/Subluxation(s): right L3, left L4, left L5, right sacrum, left pelvis and right pelvis- Extraspinal Restrictions/Subluxations: Localized Lower back.- Pain/Tenderness: lower lumbar, lumbo-sacral and sacral- Postural Analysis: Decreased Cervical spine Lordosis .- Muscle Spasm(s): moderate muscle spasms in the following areas; left lumbar, lumbar, right lumbar, leftsacroiliac and right sacroiliac.- ROM Concern(s): lumbar flexion and lumbar extension was recorded as moderately reduced with painnoted.Assessment:Lumbar spine Disc HNPLumbar spine SpondylosthesisAssociated Muscle SpasmLS Xrays 02/05/2021In the coronal plane there is pelvic unleveling, high on the right with a left lateral lumbar list.Sagittal plane alignment demonstrates an anterolisthesis of L4 on L5 of less than 25% withfacet proliferation. Mild disc thinning is seen at most lumbar levels with minimal marginalosseous vertebral body proliferation. Vertebral body heights are well maintained. There aresurgical clips in the abdomen.Impressions:1.  Postural alteration as stated above.2. Mild multilevel degenerative disc disease and spondylosis.Plan:Reviewed of findings with patient, Informed patient of treatment plan with risks and benefits,patient consented to treatment, all questions answered prior to treatment.Printed: Monday, December 12, 2022 3:07:40 PM                                                                              Page 1  Of  10\"\n",
    "\n",
    "# page3 tessarat ocr follows\n",
    "my_text = 'BRIDGEVIEW CHIROPRACTIC CENTER\\nChart Notes 7124 WEST 83RD STREET\\nMaria Sanchez BRIDGEVIEW IL 60455\\n\\nPhone: (708)599-9250\\n\\nFax: (708)599-9470\\n\\nPatient: Sanchez, Maria Acct #: 95240 DOB: 04/23/1966\\nIns Go: Pol #: insured ID:\\n\\n \\n\\nDate 02/19/2021\\n_ Provider: “Rashid Abu-Shanab, DC, MS, IM\\n\\n \\n\\n \\n\\nSubjective:\\n\\nDaily Encounter: treatment for acute/active care\\n\\n- Chief Complaint: lumbar, left lumbar, right lumbar, lower thoracic and sacral dull and aching discomfort.\\n\\n- Subjective/Patient Assessment: Maria stated this complaint has improved since the last visit. She reports\\nher ability to participate with walking, traveling and/or driving, standing, sitting and lifting has improved with this\\ncomplaint while lying down, walking, standing and sitting. 5/10 reported using the Visual Analog Scale.\\n\\nObjective:\\n\\nDaily Objective Findings:\\n\\n- Spinal Restriction(s)/Subluxation(s): right L3, left L4, left L5, right sacrum, left pelvis and right pelvis\\n\\n- Extraspinal Restrictions/Subluxations: Localized Lower back.\\n\\n- Pain/Tenderness. lower lumbar, lumbo-sacral and sacral\\n\\n- Postural Analysis: Decreased Cervical spine Lordosis .\\n\\n- Muscle Spasm(s): moderate muscle spasms in the following areas; left lumbar, lumbar, right lumbar, left\\nsacroiliac and right sacroiliac.\\n\\n- ROM Concern(s): lumbar flexion and lumbar extension was recorded as moderately reduced with pain\\n\\nnoted,\\n\\nAssessment:\\n\\nLumbar spine Disc HNP\\nLumbar spine Spondylosthesis\\nAssociated Muscle Spasm\\n\\nLS Xrays 02/05/2021\\n\\nIn the coronal plane there is pelvic unleveling, high on the right with a left lateral lumbar list.\\nSagittal plane alignment demonstrates an anterolisthesis of L4 on L5 of less than 25% with\\nfacet proliferation. Mild disc thinning is seen at most lumbar levels with minimal marginal\\nosseous vertebral body proliferation. Vertebral body-heights are well maintained. There are\\nsurgical clips in the abdomen.\\n\\nImpressions:\\n\\n1. Postural alteration as stated above.\\n2. Mild multilevel degenerative disc disease and spondylosis.\\n\\nPlan:\\nReviewed of findings with patient, Informed patient of treatment plan with risks and benefits,\\npatient consented to treatment, all questions answered prior to treatment.\\n\\n \\n\\nPrinted: Monday, December 12, 2022 3:07:40 PM Page 1 Of 10\\n\\x0c' \n",
    "print(type(my_text),len(my_text),my_text)"
   ]
  },
  {
   "cell_type": "code",
   "execution_count": null,
   "id": "698d7778-58c3-4a82-9417-10bf8ba3949a",
   "metadata": {
    "tags": []
   },
   "outputs": [],
   "source": [
    "my_text =\"\"\"\n",
    "PHYSICAL BX MINATION\\n\\nPATIENT NAME:\\n\\n \\n\\n \\n\\nt, Manic DATE:\\nVISUAL EY4 UATION\\n\\nA. Patient Build 1. Slim 2. Well Proportioned | 3. Husky 4, Slightly 5, Obese\\nOverweight\\n\\n   \\n\\nB. Carriage & Gate 1. Normal 2. Slightly Difficult | 3. Noticeably | 4, Extremely \\u00a7. Unable to Work\\nDifficult Difficult\\nC. Patient Movements 4. Guarded\\nD. Antalgic Position 2.ArmLft/Reht 3. Midback Lft/Reht\\n; | T\\n1. HEIGHT & WEIGHT 5. MUSLE TESTS Left | Right |\\nHeight Feet Inches Weight-lbs. Neck Flexors (0-5}\\nNeck Extensors (0-5)\\nTrapezius (0-5)\\n2. VITAL SIGNS Deltoids (0-5)\\nBiceps (0-5)\\nTriceps (0-5)\\nTempature Pulse Respiration Quadriceps (0-5)\\nGluteus (0-5)\\nHamstrings (0-5)\\nPsoas (0-5)\\nBlood Pressures Anterior Tibial (0-5)\\nPeroneus Longus (0-5)\\nSitting / Extensor Hallucis (0-5)\\nSupine / Gastrocnemis (0-5)\\n\\nStanding __/\\n\\neererrerrremistite\\n\\n \\n\\nVertebral Artery Screen Pos. Neg.\\n6. NEUROLOGICALS (Dermotomal Testing)\\n\\n3, DEEP TENDON REFLEXES\\na a\\n\\n    \\n \\n\\n  \\n \\n    \\n     \\n   \\n\\nci\\noc en\\nBrachioradialis [| PS\\npPatllar | Co |\\nPathological TT\\n| iy a\\n3)\\n0=Absent 1=Hypo 2=Normal 3=Hyper 4=Very Hyper (TH | |\\nTS\\n\\u00ab DYNOMOMETER =\\nTe |\\nee ee ee\\nT10 Td\\ncra\\n[Third Try ee\\n\\n \\n\\nPt\\n\\nPatient is: LeftHanded___- RightHanded__s {a2 << | Vf\\nHed WA (C | um J]\\n\\nT ye Wie cl ANY, si\\n\\n \\n\\f\",\n",
    "\"\"\""
   ]
  },
  {
   "cell_type": "code",
   "execution_count": null,
   "id": "a4e464b3-5a5f-4447-9863-782291ff36df",
   "metadata": {
    "tags": []
   },
   "outputs": [],
   "source": [
    "my_text = str(my_text[0])\n",
    "print(my_text)"
   ]
  },
  {
   "cell_type": "code",
   "execution_count": null,
   "id": "956c05b9-07d2-4725-929e-5c3792d054a8",
   "metadata": {
    "tags": []
   },
   "outputs": [],
   "source": [
    "len(my_text.split())"
   ]
  },
  {
   "cell_type": "code",
   "execution_count": null,
   "id": "d0875df9-d380-41cf-8fda-f04d617213c6",
   "metadata": {},
   "outputs": [],
   "source": [
    "import medspacy, spacy\n",
    "from medspacy.ner import TargetRule\n",
    "from medspacy.visualization import visualize_ent\n",
    "\n",
    "nlp = medspacy.load()\n",
    "print(nlp.pipe_names)"
   ]
  },
  {
   "cell_type": "code",
   "execution_count": null,
   "id": "11522b31-9de1-4c58-ad76-d0d06766d030",
   "metadata": {
    "tags": []
   },
   "outputs": [],
   "source": [
    "# import medspacy, spacy\n",
    "# from medspacy.ner import TargetRule\n",
    "# from medspacy.visualization import visualize_ent\n",
    "\n",
    "# nlp = medspacy.load()\n",
    "# print(nlp.pipe_names)\n",
    "\n",
    "nlp.get_pipe('medspacy_target_matcher').add([TargetRule('stroke', 'CONDITION'), TargetRule('diabetes', 'CONDITION'), TargetRule('pna', 'CONDITION')])\n",
    "my_text = format_text(my_text)\n",
    "doc = nlp(my_text)\n",
    "\n",
    "for ent in doc.ents:\n",
    "    print(ent, ent._.is_negated, ent._.is_family, ent._.is_historical)\n",
    "    \n",
    "medspacy.visualization.visualize_ent(doc)\n",
    "\n",
    "nlp_spacy = spacy.load(\"en_core_web_trf\")\n",
    "doc_spacy = nlp_spacy(my_text)\n",
    "for ent in doc_spacy.ents:\n",
    "    print(ent.text,ent.label_)"
   ]
  },
  {
   "cell_type": "code",
   "execution_count": null,
   "id": "a0fef9c7-ba25-4375-9ce0-f91ebfdba1e0",
   "metadata": {
    "tags": []
   },
   "outputs": [],
   "source": [
    "help(list)"
   ]
  },
  {
   "cell_type": "code",
   "execution_count": null,
   "id": "9d10e785-43e9-494a-a7e5-c23d8ac69eca",
   "metadata": {
    "tags": []
   },
   "outputs": [],
   "source": [
    "len(doc_spacy)"
   ]
  },
  {
   "cell_type": "code",
   "execution_count": null,
   "id": "8ea44380-fe39-4dc5-a2e4-aa8f2dcdd95f",
   "metadata": {
    "tags": []
   },
   "outputs": [],
   "source": [
    "for tok in doc_spacy:\n",
    "    if tok.ent_type_:\n",
    "        print(doc_spacy[tok.i-2] , doc_spacy[tok.i-1],tok,tok.ent_type_,sep=\"\\t\")"
   ]
  },
  {
   "cell_type": "code",
   "execution_count": null,
   "id": "d37ecfea-0148-49d9-b190-72b3b40e3aba",
   "metadata": {
    "tags": []
   },
   "outputs": [],
   "source": [
    "from spacy.scorer import Scorer\n",
    "scorer = Scorer()\n",
    "scores = scorer.score([my_text])"
   ]
  },
  {
   "cell_type": "code",
   "execution_count": null,
   "id": "1df4c36f-9778-403c-ba15-861df59e196e",
   "metadata": {
    "tags": []
   },
   "outputs": [],
   "source": [
    "for ent in doc_spacy.ents:\n",
    "    print(ent.kb_id,ent.text,ent.label_,sep=\"#\")"
   ]
  },
  {
   "cell_type": "code",
   "execution_count": null,
   "id": "2cd6979e-7a1b-4b4b-b12e-c552012e0d4b",
   "metadata": {
    "tags": []
   },
   "outputs": [],
   "source": [
    "import re\n",
    "def format_text(my_text):\n",
    "    my_text = re.sub(r'\\s+',' ',my_text)\n",
    "    return my_text\n",
    "format_text(my_text)"
   ]
  },
  {
   "cell_type": "code",
   "execution_count": null,
   "id": "ad295a8e-a31d-4f4c-a6c4-0cb7213f620b",
   "metadata": {
    "tags": []
   },
   "outputs": [],
   "source": [
    "my_text = \"\"\"\n",
    "  Fax Server                                   2/29/2022 (1:24: 27 AM                    PAGE        3/010           Fax Server\n",
    "\n",
    "\n",
    "\n",
    "\n",
    "\n",
    "\n",
    "\n",
    "\n",
    "\n",
    "\n",
    "\n",
    "\n",
    "  *INECONST*                                                                                                                                             Informed Conse\n",
    "\n",
    "\n",
    "Patient Name:                                                                                             Date of Birth:\n",
    "\n",
    "\n",
    "Informed Consent for (treatment/procedure):\n",
    "           Hor Suid Oxtincqiaw, WLM\n",
    "\n",
    "\n",
    "\n",
    "\n",
    "\n",
    "I g ve my consent fi                                                                             (Provider) to perform the treatment or procedure at\n",
    "\n",
    "                                                                          (Facility).      am aware that the licensed provider and those assisting the licensed\n",
    "\n",
    "provider may ofmay not be an employee of Facility. I understand that other licensed providers, including residents and other\n",
    "\n",
    "medical practitioners who are not doctors, such as students, may perform important tasks related to the treatment or procedure\n",
    "but will only do so within their scope of practice based on their skill setor per the privileges granted by Facility and when\n",
    "\n",
    "applicable, under the supervision of the licensed provider named above.\n",
    "\n",
    "\n",
    "I give my consent for blood and/or blood products if I need them. I know that blood and blood products can cause allergic\n",
    "\n",
    "response, fever and hives. I know the American Red Cross blood bank screens donors for infections and diseases, but 1 am\n",
    "\n",
    "aware there is a risk of infection.\n",
    "\n",
    "\n",
    "If I DO NOT want blood or blood products, I will initial here:                             AND fill out the Release of Liability (Refusal to\n",
    "\n",
    "Submit to Treatment) form.\n",
    "\n",
    "Either my provider or the one listed above has explained to me:\n",
    "            the nature, purpose, and expected benefits of the proposed procedure(s);\n",
    "      * the material risks and possible complications of the proposed procedure(s), including the risk that treatment may not\n",
    "            accomplish the desired objective(s);\n",
    "\n",
    "            any significant alternative treatments, including the risks and benefits;\n",
    "            the likelihood of success and problems that may be related to recuperation;\n",
    "            the possible risks and prognosis if no treatment is rendered; and\n",
    "\n",
    "            any anesthesia or sedation to be used.\n",
    "\n",
    "Tam aware of risks that can occur during this procedure. They include, but are not limited to, the following:\n",
    "            pain\n",
    "\n",
    "            severe loss of blood\n",
    "            infection\n",
    "\n",
    "            heart and breathing stopped\n",
    "            breathing problems\n",
    "            pneumonia\n",
    "            damage to blood vessels, nerves or organs\n",
    "            allergic reaction\n",
    "\n",
    "            injury from pressure or position during procedure\n",
    "            death\n",
    "\n",
    "            blood clot\n",
    "                                                                                                                 Ludwig, Candia S                      Date:\n",
    "\n",
    "                                                                                                                 DOB:        06/01/1980        F 6ly\n",
    "Blessing Hospital | Idini Community Hospital | Blessing Surgery Center Acct:        000136426-4002274362\n",
    "ID: 7775659                                                                                              Loc:         Radiology\n",
    "Page\n",
    "                                                                                                                 Physician. Pimlott, Bryan J\n",
    "03/2020\n",
    "\n",
    "                                              Retrieved 1/24/2022, Official copy located at https://blessing-forms.poli¢ cont\n",
    "ZZOT/SB/TO\n",
    "\"\"\""
   ]
  },
  {
   "cell_type": "code",
   "execution_count": null,
   "id": "cdf36ee3-a61a-41d2-82ed-0b4816e4229f",
   "metadata": {
    "tags": []
   },
   "outputs": [],
   "source": [
    "import os, json,pandas as pd"
   ]
  },
  {
   "cell_type": "code",
   "execution_count": null,
   "id": "c9de8a8f-5272-400c-b3bf-32340b55176b",
   "metadata": {
    "tags": []
   },
   "outputs": [],
   "source": [
    "!dir"
   ]
  },
  {
   "cell_type": "code",
   "execution_count": null,
   "id": "23ee3ae6-633d-43f3-8751-2f056c52888c",
   "metadata": {
    "tags": []
   },
   "outputs": [],
   "source": [
    "def read_kpo_file(file_name, data_sets_dir = \"./datasets/\"):\n",
    "    abs_path = os.path.join(data_sets_dir,file_name)\n",
    "    print(abs_path)\n",
    "    df = pd.read_json(abs_path)\n",
    "    # with open(abs_path ,\"r\" ) as fp:\n",
    "    #     data = json.load(fp)\n",
    "    #     # print(data[0])\n",
    "    print(df.columns)\n",
    "    return df\n",
    "    \n",
    "file_name =\"21-123-1911.txt\"\n",
    "df_json = read_kpo_file(file_name, data_sets_dir = \"./datasets/\")\n"
   ]
  },
  {
   "cell_type": "code",
   "execution_count": null,
   "id": "c9f5fa69-9fee-4538-b8d0-633e1a6b83dc",
   "metadata": {},
   "outputs": [],
   "source": []
  },
  {
   "cell_type": "code",
   "execution_count": null,
   "id": "80410ee8-723b-4d93-80ce-57dc94de33c8",
   "metadata": {
    "tags": []
   },
   "outputs": [],
   "source": [
    "help(list.pop)"
   ]
  },
  {
   "cell_type": "code",
   "execution_count": null,
   "id": "7284e423-6637-4773-8aef-766883271cff",
   "metadata": {},
   "outputs": [],
   "source": []
  }
 ],
 "metadata": {
  "kernelspec": {
   "display_name": "Python 3 (ipykernel)",
   "language": "python",
   "name": "python3"
  },
  "language_info": {
   "codemirror_mode": {
    "name": "ipython",
    "version": 3
   },
   "file_extension": ".py",
   "mimetype": "text/x-python",
   "name": "python",
   "nbconvert_exporter": "python",
   "pygments_lexer": "ipython3",
   "version": "3.10.7"
  }
 },
 "nbformat": 4,
 "nbformat_minor": 5
}
