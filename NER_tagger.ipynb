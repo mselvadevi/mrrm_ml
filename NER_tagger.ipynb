{
 "cells": [
  {
   "cell_type": "code",
   "execution_count": null,
   "id": "a59e082a-5b1b-4ae3-878e-4f4b23fa00e0",
   "metadata": {},
   "outputs": [],
   "source": []
  },
  {
   "cell_type": "code",
   "execution_count": 2,
   "id": "46777199-e081-403f-a073-4453dcaad5ac",
   "metadata": {},
   "outputs": [],
   "source": [
    "def lookup_for_tech_terms(nlp,my_conversation):\n",
    "    doc = nlp(my_conversation)\n",
    "    for ent in doc.ents:\n",
    "        print(my_conversation)\n",
    "        return True\n",
    "    return False\n",
    "\n",
    "def refine_rule_results(nlp,pd,df,column_list,input_file_name):\n",
    "    for index,row in df.iterrows():\n",
    "        for items in column_list:\n",
    "            sent = row[items]\n",
    "            sent_list=[]\n",
    "            for sentence in sent.split(\".\"):\n",
    "                if(lookup_for_tech_terms(nlp,sentence)):\n",
    "                    sent_list.append(sentence)\n",
    "            if(sent_list):\n",
    "                df.at[index,items] = '.'.join(sent_list)\n",
    "            else:\n",
    "                df.at[index,items] = \"\"\n",
    "                              \n",
    "    output_file_path = input_file_name[0:input_file_name.rfind('.')]+\"_EXTRACT.xlsx\"\n",
    "    try:\n",
    "        with pd.ExcelWriter(output_file_path, engine='xlsxwriter') as writer:\n",
    "            \n",
    "            df.to_excel(writer, sheet_name='one')\n",
    "            print(\"file Saved\")\n",
    "   \n",
    "        \n",
    "    except Exception as e:\n",
    "        print(\"Error while storing results:\",e)\n",
    "        writer.close()\n",
    "    print(\"refine_rule_results : process completed\")\n",
    "    return"
   ]
  },
  {
   "cell_type": "code",
   "execution_count": 3,
   "id": "6b74f33e-bf33-4e7e-9654-443445c26096",
   "metadata": {},
   "outputs": [],
   "source": [
    "def read_processed_result_set(pd,input_file_name):\n",
    "    processed_result_set = pd.read_excel(input_file_name)\n",
    "    return processed_result_set\n",
    "\n",
    "def read_file(nlp,pd,input_file_name):\n",
    "    # input_file_name = \"/home/axe/NLP/JSON-TRANSCRIPTS/GMT20210427-170250_Recording.transcript-US-87.xlsx\"\n",
    "    df = read_processed_result_set(pd,input_file_name)\n",
    "    df.fillna(\"\", inplace=True)\n",
    "    column_list = ['subj_verb_dobj', 'subj_verb_pobj', 'subj_verb_dobj_pobj',\n",
    "       'verb_tense', 'graph_brain', 'verb_tense_graph_brain',\n",
    "       'graph_brain_verb_tense', 'graph_brain_subj_verb_dobj',\n",
    "       'verb_tense_graph_brain_dobj', 'graph_brain_verb_tense_dobj']    \n",
    "    # calling process function\n",
    "    refine_rule_results(nlp,pd,df,column_list,input_file_name)\n",
    "    return"
   ]
  },
  {
   "cell_type": "code",
   "execution_count": 4,
   "id": "91a19f77-a8f3-4f0d-9a02-17a364ea31b4",
   "metadata": {},
   "outputs": [
    {
     "name": "stdout",
     "output_type": "stream",
     "text": [
      "file Saved\n",
      "refine_rule_results : process completed\n",
      "Processes started\n"
     ]
    }
   ],
   "source": [
    "# import warnings.filterwarnings(action='once')\n",
    "\n",
    "def main():\n",
    "    from spacy import load\n",
    "    import pandas as pd\n",
    "\n",
    "    nlp = load('en_core_web_sm')\n",
    "    output_pattern_JSONL_file = \"/home/axe/NLP/terminilogy.jsonl\"\n",
    "    if(\"entity_ruler\" not in nlp.pipe_names):\n",
    "        ruler=nlp.add_pipe(\"entity_ruler\").from_disk(output_pattern_JSONL_file)\n",
    "    input_file_name = \"/home/axe/NLP/JSON-TRANSCRIPTS/GMT20210503-185720_Recording.transcript-SI-8.xlsx\"\n",
    "    read_file(nlp,pd,input_file_name)\n",
    "       \n",
    "    print(\"Processes started\")\n",
    "    \n",
    "    \n",
    "if __name__ == \"__main__\":\n",
    "    main()"
   ]
  },
  {
   "cell_type": "code",
   "execution_count": null,
   "id": "b9e3eb1e-7bbb-4ef3-a4e3-ecb0398aaf09",
   "metadata": {},
   "outputs": [],
   "source": []
  },
  {
   "cell_type": "code",
   "execution_count": null,
   "id": "311beb09-58c3-45bf-9d94-c308c00eb613",
   "metadata": {},
   "outputs": [],
   "source": []
  },
  {
   "cell_type": "code",
   "execution_count": null,
   "id": "2738fb14-4187-4eec-a425-ad61c2599423",
   "metadata": {},
   "outputs": [],
   "source": []
  }
 ],
 "metadata": {
  "kernelspec": {
   "display_name": "Python 3 (ipykernel)",
   "language": "python",
   "name": "python3"
  },
  "language_info": {
   "codemirror_mode": {
    "name": "ipython",
    "version": 3
   },
   "file_extension": ".py",
   "mimetype": "text/x-python",
   "name": "python",
   "nbconvert_exporter": "python",
   "pygments_lexer": "ipython3",
   "version": "3.10.7"
  }
 },
 "nbformat": 4,
 "nbformat_minor": 5
}
