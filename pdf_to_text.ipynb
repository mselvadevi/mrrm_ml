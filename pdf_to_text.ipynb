{
 "cells": [
  {
   "cell_type": "code",
   "execution_count": 2,
   "id": "6c6eb992-b27d-45ee-88b2-3b06c668ebf9",
   "metadata": {},
   "outputs": [],
   "source": [
    "import json, pandas as pd\n",
    "import os\n"
   ]
  },
  {
   "cell_type": "code",
   "execution_count": 7,
   "id": "ce4846ab-3bdd-4918-a2c2-1ea4069c705c",
   "metadata": {
    "tags": []
   },
   "outputs": [
    {
     "data": {
      "text/plain": [
       "['21-123-1913_cleaned.json',\n",
       " '21-123-1911_cleaned.json',\n",
       " '3.pdf',\n",
       " '21-123-1914_cleaned.json']"
      ]
     },
     "execution_count": 7,
     "metadata": {},
     "output_type": "execute_result"
    }
   ],
   "source": [
    "dir_ = r\"/home/axe/GITHUB/KPO/PROCESSED/\"\n",
    "os.listdir(dir_)"
   ]
  },
  {
   "cell_type": "code",
   "execution_count": 31,
   "id": "4d544ded-e456-4559-9398-4fee39937543",
   "metadata": {
    "tags": []
   },
   "outputs": [],
   "source": [
    "df = pd.read_json(\"/home/axe/GITHUB/KPO/PROCESSED/21-123-1913_cleaned.json\")\n",
    "df.columns\n",
    "df.drop(columns=['pagenumber', 'category', 'Type ', 'Data', 'Isstart'], inplace=True)\n",
    "df['ImageText'] = df['ImageText'].apply(lambda x: ' '.join(x) if isinstance(x,list) else x)\n",
    "with open(\"/home/axe/GITHUB/KPO/PROCESSED/21-123-1913_inference.json\",\"w\") as fp:\n",
    "\n",
    "    json.dump(df['ImageText'][0:100].to_list(),fp)"
   ]
  },
  {
   "cell_type": "code",
   "execution_count": 30,
   "id": "b848ee74-ff85-41e8-afd4-cf7c8f5ed4b9",
   "metadata": {
    "tags": []
   },
   "outputs": [
    {
     "data": {
      "text/plain": [
       "0     av\\r\\n\\r\\nYE | Wage Rate:\\r\\n\\r\\nA Treatment S...\n",
       "1     IMPORTANT: Full name all Witnesses, w/ Address...\n",
       "2     ‘say (8g UONIANSuGg , ne\\r\\n\\r\\nL\\r\\nvy seme. ...\n",
       "3     Alcohol Testing Form (Non-DOT) — ~ is\\r\\n\\r\\n(...\n",
       "4     ALERE ESCREEN\\r\\n\\r\\n“@screen. Specimen Result...\n",
       "                            ...                        \n",
       "95    Helfers, Deanna C (MRN 00839476) DOB: 12/06/19...\n",
       "96    Helfers, Deanna C (MRN 00839476) DOB: 12/06/19...\n",
       "97    Helfers, Deanna C (MRN 00839476) DOB: 12/06/19...\n",
       "98    Helfers, Deanna C (MRN 00839476) DOB: 12/06/19...\n",
       "99    Helfers, Deanna C (MRN 00839476) DOB: 12/06/19...\n",
       "Name: ImageText, Length: 100, dtype: object"
      ]
     },
     "execution_count": 30,
     "metadata": {},
     "output_type": "execute_result"
    }
   ],
   "source": [
    "df['ImageText'][0:100]"
   ]
  },
  {
   "cell_type": "code",
   "execution_count": 22,
   "id": "c2e79356-ac36-4295-a35c-eaa362692ef0",
   "metadata": {
    "tags": []
   },
   "outputs": [],
   "source": []
  },
  {
   "cell_type": "code",
   "execution_count": 23,
   "id": "2a310f1b-bb15-4b5b-9bc7-32c70caad0a9",
   "metadata": {
    "tags": []
   },
   "outputs": [
    {
     "data": {
      "text/html": [
       "<div>\n",
       "<style scoped>\n",
       "    .dataframe tbody tr th:only-of-type {\n",
       "        vertical-align: middle;\n",
       "    }\n",
       "\n",
       "    .dataframe tbody tr th {\n",
       "        vertical-align: top;\n",
       "    }\n",
       "\n",
       "    .dataframe thead th {\n",
       "        text-align: right;\n",
       "    }\n",
       "</style>\n",
       "<table border=\"1\" class=\"dataframe\">\n",
       "  <thead>\n",
       "    <tr style=\"text-align: right;\">\n",
       "      <th></th>\n",
       "      <th>ImageText</th>\n",
       "    </tr>\n",
       "  </thead>\n",
       "  <tbody>\n",
       "    <tr>\n",
       "      <th>0</th>\n",
       "      <td>av\\r\\n\\r\\nYE | Wage Rate:\\r\\n\\r\\nA Treatment S...</td>\n",
       "    </tr>\n",
       "    <tr>\n",
       "      <th>1</th>\n",
       "      <td>IMPORTANT: Full name all Witnesses, w/ Address...</td>\n",
       "    </tr>\n",
       "  </tbody>\n",
       "</table>\n",
       "</div>"
      ],
      "text/plain": [
       "                                           ImageText\n",
       "0  av\\r\\n\\r\\nYE | Wage Rate:\\r\\n\\r\\nA Treatment S...\n",
       "1  IMPORTANT: Full name all Witnesses, w/ Address..."
      ]
     },
     "execution_count": 23,
     "metadata": {},
     "output_type": "execute_result"
    }
   ],
   "source": [
    "df.head(2)"
   ]
  },
  {
   "cell_type": "code",
   "execution_count": null,
   "id": "789a20ef-5814-4415-8b74-415a158925c1",
   "metadata": {},
   "outputs": [],
   "source": []
  },
  {
   "cell_type": "code",
   "execution_count": 1,
   "id": "ca7e3dd2-3812-4f86-b297-a4bcec370379",
   "metadata": {
    "tags": []
   },
   "outputs": [],
   "source": [
    "file_name = r'C:\\Users\\murugesan_r\\OneDrive - Prelude Systems Inc\\PRELUDESYS\\GITHUB\\KPO\\3.pdf'\n",
    "file_name = r'/home/axe/GITHUB/KPO/TO_PROCESS'\n",
    "# file_name =\"21-123-1930.pdf\"\n",
    "# file_name=\"3.pdf\""
   ]
  },
  {
   "cell_type": "code",
   "execution_count": 6,
   "id": "17b56523-a236-40e5-92a1-50f2520ccbfb",
   "metadata": {
    "tags": []
   },
   "outputs": [
    {
     "ename": "NameError",
     "evalue": "name 'file_name' is not defined",
     "output_type": "error",
     "traceback": [
      "\u001b[0;31m---------------------------------------------------------------------------\u001b[0m",
      "\u001b[0;31mNameError\u001b[0m                                 Traceback (most recent call last)",
      "Cell \u001b[0;32mIn[6], line 2\u001b[0m\n\u001b[1;32m      1\u001b[0m \u001b[38;5;28;01mimport\u001b[39;00m \u001b[38;5;21;01mos\u001b[39;00m\n\u001b[0;32m----> 2\u001b[0m os\u001b[38;5;241m.\u001b[39mlistdir(\u001b[43mfile_name\u001b[49m)\n",
      "\u001b[0;31mNameError\u001b[0m: name 'file_name' is not defined"
     ]
    }
   ],
   "source": []
  },
  {
   "cell_type": "code",
   "execution_count": 3,
   "id": "9cc026f7-0048-40d0-af1d-b30e11d9c0cc",
   "metadata": {
    "tags": []
   },
   "outputs": [],
   "source": [
    "import pdfreader\n",
    "from pdfreader import PDFDocument, SimplePDFViewer"
   ]
  },
  {
   "cell_type": "code",
   "execution_count": null,
   "id": "886fe575-91b0-4ecf-870a-4b8dae1aade7",
   "metadata": {
    "tags": []
   },
   "outputs": [],
   "source": [
    "# with open(file_name, \"rb\") as fd:\n",
    "#     doc = PDFDocument(fd)"
   ]
  },
  {
   "cell_type": "code",
   "execution_count": null,
   "id": "ebad9d47-53cf-4f46-aaef-5f61535c37b7",
   "metadata": {
    "tags": []
   },
   "outputs": [],
   "source": [
    "# poppler_path=r'C:\\Users\\murugesan_r\\OneDrive - Prelude Systems Inc\\PRELUDESYS\\GITHUB\\KPO\\poppler-0.68.0\\bin'\n",
    "# print(poppler_path)"
   ]
  },
  {
   "cell_type": "code",
   "execution_count": null,
   "id": "69868607-6d2d-480e-8f0b-4db0c1075e21",
   "metadata": {
    "tags": []
   },
   "outputs": [],
   "source": [
    "# import pytesseract\n",
    "# from pdf2image import convert_from_path\n",
    "# import glob\n",
    "\n",
    "# pdfs = glob.glob(file_name)\n",
    "# print(f\"filename:{file_name}\")\n",
    "# print(\"pdfs:\",pdfs)\n",
    "# for pdf_path in pdfs:\n",
    "#     pages = convert_from_path(pdf_path, 500, )\n",
    "\n",
    "#     for pageNum,imgBlob in enumerate(pages):\n",
    "#         text = pytesseract.image_to_string(imgBlob,lang='eng')\n",
    "\n",
    "#         with open(f'{pdf_path[:-4]}_page{pageNum}.txt', 'w') as the_file:\n",
    "#             the_file.write(text)"
   ]
  },
  {
   "cell_type": "code",
   "execution_count": null,
   "id": "590f2235-475d-4211-a8fb-6b8fc23fec3a",
   "metadata": {
    "tags": []
   },
   "outputs": [],
   "source": [
    "    \n",
    "# path =  r'C:\\Users\\murugesan_r\\OneDrive - Prelude Systems Inc\\PRELUDESYS\\GITHUB\\KPO'\n",
    "\n",
    "# def spliting_pdf2img( path):\n",
    "#     from pdf2image import convert_from_path, convert_from_bytes\n",
    "#     for file in os.listdir(path):\n",
    "#         if file.lower().endswith(\".pdf\"):\n",
    "#             pages = convert_from_path(os.path.join(path,file), 500,poppler_path= poppler_path)\n",
    "#             for page in pages:                    \n",
    "#                 page.save(os.path.join(path,file.lower().replace(\".pdf\",\".jpg\")),'JPEG')    \n",
    "# spliting_pdf2img( path)"
   ]
  },
  {
   "cell_type": "code",
   "execution_count": null,
   "id": "9c6be6da-1ea1-4464-8da7-0f62a3749e1f",
   "metadata": {},
   "outputs": [],
   "source": []
  },
  {
   "cell_type": "code",
   "execution_count": null,
   "id": "66586270-9df7-4ed3-84ea-ef6d39c6f41f",
   "metadata": {
    "tags": []
   },
   "outputs": [],
   "source": [
    "# import os\n",
    "# import io\n",
    "# from PIL import Image\n",
    "# import pytesseract\n",
    "# from wand.image import Image as wi\n",
    "# import gc\n",
    "\n",
    "\n",
    "# pdf_path = \"3.pdf\"\n",
    "# pdf=wi(filename=pdf_path,resolution=300)\n",
    "# pdfImg=pdf.convert('jpeg')\n",
    "\n",
    "# imgBlobs=[]\n",
    "# extracted_text=[]\n",
    "\n",
    "# def Get_text_from_image(pdf_path):\n",
    "#     pdf=wi(filename=pdf_path,resolution=300)\n",
    "#     pdfImg=pdf.convert('jpeg')\n",
    "#     imgBlobs=[]\n",
    "#     extracted_text=[]\n",
    "#     for img in pdfImg.sequence:\n",
    "#         page=wi(image=img)\n",
    "#         imgBlobs.append(page.make_blob('jpeg'))\n",
    "\n",
    "#     for imgBlob in imgBlobs:\n",
    "#         im=Image.open(io.BytesIO(imgBlob))\n",
    "#         text=pytesseract.image_to_string(im,lang='eng')\n",
    "#         extracted_text.append(text)\n",
    "\n",
    "#     return (extracted_text)"
   ]
  },
  {
   "cell_type": "code",
   "execution_count": null,
   "id": "375a26ac-be46-43fd-8aa4-7afa9026db42",
   "metadata": {
    "tags": []
   },
   "outputs": [],
   "source": []
  },
  {
   "cell_type": "code",
   "execution_count": 3,
   "id": "67ba3baf-813c-4083-a971-5b9d75f2c97a",
   "metadata": {
    "tags": []
   },
   "outputs": [],
   "source": [
    "import json\n",
    "import base64\n",
    "import pytesseract\n",
    "from pdf2image import convert_from_path\n",
    "import glob\n",
    "import shutil,os"
   ]
  },
  {
   "cell_type": "code",
   "execution_count": null,
   "id": "0356dfc0-b976-4420-b6dd-b5e600883539",
   "metadata": {
    "tags": []
   },
   "outputs": [
    {
     "name": "stdout",
     "output_type": "stream",
     "text": [
      "['/home/axe/GITHUB/KPO/TO_PROCESS/21-123-1914.pdf', '/home/axe/GITHUB/KPO/TO_PROCESS/21-123-1921.pdf']\n",
      "File Name:21-123-1914.pdf \n",
      " file_name_without_extension:/home/axe/GITHUB/KPO/TO_PROCESS/21-123-1914.json\n",
      "file_name_without_extension:/home/axe/GITHUB/KPO/TO_PROCESS/21-123-1914.json,file:/home/axe/GITHUB/KPO/TO_PROCESS/21-123-1914.pdf\n",
      "/home/axe/GITHUB/KPO/TO_PROCESS/21-123-1914.pdf\n",
      "pdfs: ['/home/axe/GITHUB/KPO/TO_PROCESS/21-123-1914.pdf']\n"
     ]
    }
   ],
   "source": [
    "def ocr_dir(directory):\n",
    "    pdf_files = [ os.path.join(directory,file) for  file in os.listdir(directory) if file.endswith(\".pdf\")]\n",
    "    print(pdf_files)\n",
    "    if not pdf_files: return -1\n",
    "    for file in pdf_files:\n",
    "        file_name = os.path.basename(file)\n",
    "        \n",
    "        file_name_without_extension = os.path.join(directory,file_name.rpartition(\".\")[0] + \".json\")\n",
    "        print(f'File Name:{file_name} \\n file_name_without_extension:{file_name_without_extension}')\n",
    "        if not os.path.isfile(file_name_without_extension):\n",
    "            print(f\"file_name_without_extension:{file_name_without_extension},file:{file}\")\n",
    "            ocr_extraction(file,file_name_without_extension)\n",
    "ocr_dir(directory=file_name)"
   ]
  },
  {
   "cell_type": "code",
   "execution_count": null,
   "id": "9d169414-ef47-4a09-a337-569fefe8ee67",
   "metadata": {
    "tags": []
   },
   "outputs": [
    {
     "name": "stdout",
     "output_type": "stream",
     "text": [
      "/home/axe/GITHUB/KPO/TO_PROCESS/21-123-1921.pdf\n",
      "pdfs: ['/home/axe/GITHUB/KPO/TO_PROCESS/21-123-1921.pdf']\n"
     ]
    }
   ],
   "source": [
    "def ocr_extraction(abs_file_name,data_file):\n",
    "    if abs_file_name is None : return -1\n",
    "    # pdfFile = wi(filename = abs_file_name, resolution = 300)\n",
    "    data_json_list = None\n",
    "    if os.path.isfile(data_file):\n",
    "        with open(data_file, \"r\") as fp:   \n",
    "            data_json_list = json.load(fp)\n",
    "        if data_json_list is None: return -1\n",
    "    pdfs = glob.glob(abs_file_name)\n",
    "    print(abs_file_name)\n",
    "    print(\"pdfs:\",pdfs)\n",
    "    for pdf_path in pdfs:\n",
    "        pages = convert_from_path(pdf_path, 500)\n",
    "    content_page_wise = []    \n",
    "    for index,imgBlob in enumerate(pages):\n",
    "        text = pytesseract.image_to_string(imgBlob,lang='eng')\n",
    "        # print(base64.b64encode(bytearray(imgBlob) ))\n",
    "        t ={ \"pagenumber\" : index,\n",
    "            \"category\":data_json_list[index].get(\"category\"),\n",
    "            \n",
    "            \"Data\": data_json_list[index].get(\"Data\"),\n",
    "            \n",
    "            \"ImageText\" : text,\n",
    "            \n",
    "            \"Isstart\":data_json_list[index].get(\"Isstart\")\n",
    "            \n",
    "           }\n",
    "        content_page_wise.append(t)\n",
    "    converted_ocr_base_dir = \"/home/axe/GITHUB/KPO/OCR_PAGES/\"\n",
    "    file_name = os.path.basename(abs_file_name)\n",
    "    file_name_without_extension = os.path.join(converted_ocr_base_dir,file_name.rpartition(\".\")[0] + \".json\")\n",
    "    print(\"json_file:\",file_name_without_extension)\n",
    "    with open(file_name_without_extension,\"w\") as fp:\n",
    "        json.dump(content_page_wise,fp,indent=4)\n",
    "        shutil.move(abs_file_name,r\"/home/axe/GITHUB/KPO/PROCESSED\")\n",
    "    return content_page_wise\n",
    "ocr_extraction(abs_file_name=r'/home/axe/GITHUB/KPO/TO_PROCESS/21-123-1921.pdf',data_file=r'/home/axe/GITHUB/KPO/TO_PROCESS/21-123-1921.json')"
   ]
  },
  {
   "cell_type": "code",
   "execution_count": null,
   "id": "bed773d8-25bf-4faf-a05f-6ecc0477f437",
   "metadata": {
    "tags": []
   },
   "outputs": [],
   "source": [
    "# import pytesseract\n",
    "# from pdf2image import convert_from_path\n",
    "# import glob\n",
    "\n",
    "# pdfs = glob.glob(r\"3.PDF\")\n",
    "\n",
    "# for pdf_path in pdfs:\n",
    "#     pages = convert_from_path(pdf_path, 500)\n",
    "\n",
    "#     for pageNum,imgBlob in enumerate(pages):\n",
    "#         text = pytesseract.image_to_string(imgBlob,lang='eng')\n",
    "#         print(text)\n",
    "#         with open(f'{pdf_path[:-4]}_page{pageNum}.txt', 'w') as the_file:\n",
    "#             the_file.write(text)"
   ]
  },
  {
   "cell_type": "code",
   "execution_count": null,
   "id": "b1242d57-66f4-43f9-9e44-80236b45e3ed",
   "metadata": {},
   "outputs": [],
   "source": []
  },
  {
   "cell_type": "code",
   "execution_count": null,
   "id": "2221043c-4499-46d4-b102-30151962a00b",
   "metadata": {
    "tags": []
   },
   "outputs": [],
   "source": [
    "# import os\n",
    "# file_name = \"3.pdf\"\n",
    "# import pdfreader\n",
    "# from pdfreader import PDFDocument, SimplePDFViewer\n",
    "# fd= open(file_name, \"rb\")\n",
    "# viewer = SimplePDFViewer(fd)\n",
    "# print(\"welcome\")\n",
    "# print(viewer.metadata)\n",
    "# print(viewer.render())\n",
    "# print(viewer.canvas.strings)\n",
    "\n",
    "# for canvas in viewer:\n",
    "#     page_images = canvas.images\n",
    "#     page_forms = canvas.forms\n",
    "#     page_text = canvas.text_content\n",
    "#     page_inline_images = canvas.inline_images\n",
    "#     page_strings = canvas.strings\n",
    "#     text = pytesseract.image_to_string(page_images,lang='eng')\n",
    "#     print(text)\n",
    "\n"
   ]
  },
  {
   "cell_type": "code",
   "execution_count": null,
   "id": "0553ba53-3c23-4e99-b421-e6d261c7026d",
   "metadata": {},
   "outputs": [],
   "source": []
  },
  {
   "cell_type": "code",
   "execution_count": null,
   "id": "8cdc6798-0e17-437a-b7cc-0a2d9ce6645b",
   "metadata": {
    "tags": []
   },
   "outputs": [],
   "source": [
    "# import io\n",
    "# from PIL import Image\n",
    "# import pytesseract\n",
    "# from wand.image import Image as wi\n",
    "\n",
    "# #         print(text)\n",
    "# #         with open(f'{pdf_path[:-4]}_page{index}.txt', 'w') as the_file:\n",
    "# #             the_file.write(text)\n",
    "            \n",
    "    \n",
    "# pdfFile = wi(filename = \"3.pdf\", resolution = 300)\n",
    "# image = pdfFile.convert('jpeg')\n",
    "\n",
    "# imageBlobs = []\n",
    "\n",
    "# for img in image.sequence:\n",
    "# \timgPage = wi(image = img)\n",
    "# \timageBlobs.append(imgPage.make_blob('jpeg'))\n",
    "\n",
    "# extract = []\n",
    "\n",
    "# for imgBlob in imageBlobs:\n",
    "# \timage = Image.open(io.BytesIO(imgBlob))\n",
    "# \ttext = pytesseract.image_to_string(image, lang = 'eng')\n",
    "# \textract.append(text)\n",
    "\n",
    "# print(extract)"
   ]
  },
  {
   "cell_type": "code",
   "execution_count": null,
   "id": "108778ed-7931-41a4-8a95-cc1063bf8639",
   "metadata": {},
   "outputs": [],
   "source": []
  }
 ],
 "metadata": {
  "kernelspec": {
   "display_name": "Python 3 (ipykernel)",
   "language": "python",
   "name": "python3"
  },
  "language_info": {
   "codemirror_mode": {
    "name": "ipython",
    "version": 3
   },
   "file_extension": ".py",
   "mimetype": "text/x-python",
   "name": "python",
   "nbconvert_exporter": "python",
   "pygments_lexer": "ipython3",
   "version": "3.10.7"
  }
 },
 "nbformat": 4,
 "nbformat_minor": 5
}
