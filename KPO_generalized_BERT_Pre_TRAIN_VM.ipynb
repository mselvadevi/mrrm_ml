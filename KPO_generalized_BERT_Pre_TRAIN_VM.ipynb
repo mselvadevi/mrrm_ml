{
 "cells": [
  {
   "cell_type": "markdown",
   "metadata": {
    "colab_type": "text",
    "id": "view-in-github"
   },
   "source": [
    "<a href=\"https://colab.research.google.com/github/murugesan7379/KPO/blob/main/KPO_generalized_BERT_Pre_TRAIN.ipynb\" target=\"_parent\"><img src=\"https://colab.research.google.com/assets/colab-badge.svg\" alt=\"Open In Colab\"/></a>"
   ]
  },
  {
   "cell_type": "code",
   "execution_count": 1,
   "metadata": {},
   "outputs": [
    {
     "name": "stderr",
     "output_type": "stream",
     "text": [
      "/home/dev_user/ENV/kpo/lib/python3.10/site-packages/tqdm/auto.py:21: TqdmWarning: IProgress not found. Please update jupyter and ipywidgets. See https://ipywidgets.readthedocs.io/en/stable/user_install.html\n",
      "  from .autonotebook import tqdm as notebook_tqdm\n"
     ]
    }
   ],
   "source": [
    "import pandas as pd, os, re\n",
    "\n",
    "import numpy as np\n",
    "import pandas as pd\n",
    "import torch, random\n",
    "import torch.nn as nn\n",
    "from sklearn.model_selection import train_test_split\n",
    "from sklearn.metrics import classification_report\n",
    "import transformers\n",
    "from transformers import AutoModel, BertTokenizerFast, BertForSequenceClassification, BertTokenizer\n",
    "from torch.utils.data import Dataset, TensorDataset\n",
    "from sklearn.model_selection import train_test_split\n",
    "from torch.utils.data import DataLoader, RandomSampler, SequentialSampler\n",
    "from transformers import AdamW, get_linear_schedule_with_warmup\n",
    "from sklearn.metrics import f1_score\n",
    "import random\n",
    "from tqdm import tqdm\n",
    "from transformers import pipeline\n",
    "import json, os\n",
    "from transformers import BertConfig\n",
    "\n",
    "\n"
   ]
  },
  {
   "cell_type": "code",
   "execution_count": 3,
   "metadata": {},
   "outputs": [],
   "source": [
    "from transformers import  BertForSequenceClassification, BertTokenizer"
   ]
  },
  {
   "cell_type": "code",
   "execution_count": 1,
   "metadata": {},
   "outputs": [
    {
     "name": "stderr",
     "output_type": "stream",
     "text": [
      "/home/dev_user/ENV/kpo/lib/python3.10/site-packages/tqdm/auto.py:21: TqdmWarning: IProgress not found. Please update jupyter and ipywidgets. See https://ipywidgets.readthedocs.io/en/stable/user_install.html\n",
      "  from .autonotebook import tqdm as notebook_tqdm\n"
     ]
    },
    {
     "name": "stdout",
     "output_type": "stream",
     "text": [
      "cuda\n"
     ]
    }
   ],
   "source": [
    "import read_utils\n",
    "import init,torch_metrics,os\n",
    "import train"
   ]
  },
  {
   "cell_type": "code",
   "execution_count": 5,
   "metadata": {},
   "outputs": [],
   "source": [
    "import mlflow\n",
    "traking_uri = \"http://10.10.0.7:8886\"\n",
    "try:\n",
    "    mlflow.set_tracking_uri(traking_uri)\n",
    "except Exception as e:\n",
    "    print(e)"
   ]
  },
  {
   "cell_type": "code",
   "execution_count": null,
   "metadata": {},
   "outputs": [],
   "source": [
    "\n",
    "#### Projects\n",
    "project_sponser = \"KPO\"\n",
    "project_type= \"Classfication\"\n",
    "project_algo = \"BERT\"\n",
    "model_storage = \"MODELS\"\n",
    "data_set_dir = \"DATA-SETS\"\n",
    "base_model = \"BERT\"\n",
    "base_model_fine_tune =\"BOUNDRY_PRE_TRAIN\"\n",
    "# base_model_fine_tune =\"BOUNDRY_FINE_TUNE\"\n",
    "#model params\n",
    "max_length = 512\n",
    "epochs = 2\n",
    "epoch  = epochs\n",
    "batch_size = epochs\n",
    "#####\n",
    "project_name = \"KPO/BERT-MODELS/\"\n",
    "# MODEL_TYPE = \"PAGE_SEGMENTER\"\n",
    "MODEL_TYPE = \"PAGE_CATEGORY\"\n",
    "file_dir = os.path.join(os.environ['HOME'],r\"KPO/SOURCE\")\n",
    "\n",
    "file_dir = os.path.join(os.environ['HOME'],r\"KPO/SOURCE\")\n",
    "model_store_dir = os.path.join(os.environ['HOME'],r\"KPO/MODELS\")\n",
    "\n",
    "model_store_dir = os.path.join(os.environ['HOME'],r\"KPO/MODELS\")\n",
    "save_model_name = '_'.join([project_type,MODEL_TYPE,str(max_length),base_model,base_model_fine_tune])\n",
    "max_length = 512\n",
    "model_checkpoint =\"bert-base-uncased\"\n",
    "tokenizer_instance = BertTokenizer\n",
    "model_instance = BertForSequenceClassification\n",
    "epochs = 2\n",
    "batch_size = 5\n",
    "num_labels= 50\n",
    "input_feature = 'ImageText'\n",
    "target = 'category'\n",
    "exlcude=['Duplicates']\n",
    "train.iterative_model_training(file_dir,input_feature,target,\n",
    "                             model_store_dir,\n",
    "                             save_model_name,\n",
    "                             max_length,\n",
    "                             model_checkpoint,\n",
    "                             tokenizer_instance,\n",
    "                                   model_instance,\n",
    "                                   num_labels,\n",
    "                             epochs = epochs,\n",
    "                                   batch_size = batch_size,\n",
    "                             exlcude = exlcude,\n",
    "                                   file_type = \".json\",\n",
    "                                   MODEL_TYPE = MODEL_TYPE\n",
    "                            )"
   ]
  },
  {
   "cell_type": "code",
   "execution_count": null,
   "metadata": {},
   "outputs": [],
   "source": []
  },
  {
   "cell_type": "code",
   "execution_count": null,
   "metadata": {},
   "outputs": [],
   "source": [
    "device = torch.device('cuda' if torch.cuda.is_available() else 'cpu')\n",
    "device"
   ]
  },
  {
   "cell_type": "code",
   "execution_count": null,
   "metadata": {},
   "outputs": [],
   "source": [
    "import os, mlflow,  torch\n"
   ]
  },
  {
   "cell_type": "code",
   "execution_count": null,
   "metadata": {
    "id": "QX6bGNb7MDAU"
   },
   "outputs": [],
   "source": []
  },
  {
   "cell_type": "code",
   "execution_count": null,
   "metadata": {
    "id": "bo-9Tf31SZdV"
   },
   "outputs": [],
   "source": [
    "import mlflow\n",
    "traking_uri = \"http://10.10.0.7:8886\"\n",
    "try:\n",
    "    mlflow.set_tracking_uri(traking_uri)\n",
    "except Exception as e:\n",
    "    print(e)\n",
    "run_name=\"MLflow on azur vm\"\n",
    "with mlflow.start_run(run_name= run_name):\n",
    "    print(f\"welcome ot {mlflow.get_tracking_uri()}\")\n",
    "    run_id = mlflow.get_experiment_by_name(run_name)\n",
    "    experiment_id = mlflow.get_experiment_by_name(run_name)\n",
    "    print(run_id,experiment_id,sep=\"#\")\n",
    "    mlflow.log_metric(\"m1\", 2.0)\n",
    "    mlflow.log_param(\"p1\", \"mlflow-colab\")\n",
    "    print(\"nd\")\n",
    "\n",
    "# run tracking UI in the background\n",
    "# get_ipython().system_raw(\"mlflow ui --port 8887 --host 0.0.0.0 &\") # run tracking UI in the background\n"
   ]
  },
  {
   "cell_type": "code",
   "execution_count": null,
   "metadata": {
    "id": "M6MnYbKdTn2G"
   },
   "outputs": [],
   "source": [
    "mlflow.get_tracking_uri()"
   ]
  },
  {
   "cell_type": "code",
   "execution_count": null,
   "metadata": {},
   "outputs": [],
   "source": []
  },
  {
   "cell_type": "code",
   "execution_count": null,
   "metadata": {
    "id": "6exHZaWwTn4w"
   },
   "outputs": [],
   "source": [
    "mlflow.log_param(\"names\",\"murugesan\")"
   ]
  },
  {
   "cell_type": "code",
   "execution_count": null,
   "metadata": {
    "id": "u4jNdA24Tn7h"
   },
   "outputs": [],
   "source": [
    "mlflow.end_run()"
   ]
  },
  {
   "cell_type": "code",
   "execution_count": null,
   "metadata": {},
   "outputs": [],
   "source": [
    "os.environ['HOME']"
   ]
  },
  {
   "cell_type": "code",
   "execution_count": null,
   "metadata": {
    "id": "Kat-MNVOb5xy"
   },
   "outputs": [],
   "source": [
    "file_dir = os.path.join(os.environ['HOME'],r\"KPO/SOURCE\")\n",
    "model_store_dir = os.path.join(os.environ['HOME'],r\"KPO/MODELS\")\n",
    "# MODEL_TYPE = \"PAGE_SEGMENTER\"\n",
    "MODEL_TYPE = \"PAGE_CATEGORY\"\n",
    "\n",
    "file_dir"
   ]
  },
  {
   "cell_type": "code",
   "execution_count": null,
   "metadata": {
    "id": "HKTVEAVQTn-X"
   },
   "outputs": [],
   "source": [
    "import json,os,  pandas as pd, numpy as np\n",
    "def read_dir_json(file_dir=None ):\n",
    "    print(os.path.isdir(file_dir),file_dir, os.listdir(file_dir) )\n",
    "    if file_dir and os.path.isdir(file_dir) : \n",
    "        file_list = [ file for file in os.listdir(file_dir) if os.path.isfile(os.path.join(file_dir,file) ) \n",
    "                    and (file.endswith(\".txt\") or file.endswith(\".json\") \n",
    "                         \n",
    "                      )\n",
    "                    and file not in ['21-123-1920.txt','21-123-1915.txt','21-123-1939.txt','21-123-1943.txt','21-123-1924.txt']\n",
    "                    ]\n",
    "        combined_content = []\n",
    "        print(f'List of Files:{file_list}')\n",
    "        for index,file in enumerate(file_list):\n",
    "            with open(os.path.join(file_dir,file),\"r\",encoding='utf-8',errors='ignore') as fp:\n",
    "                print(file)\n",
    "                file_content = json.load(fp)\n",
    "                print(f'len:{len(file_content)}')\n",
    "                chunk_size = int(len(file_content)/10)\n",
    "                for index,data in enumerate( range(0, len(file_content), chunk_size) ):\n",
    "                # for index,data in enumerate(np.array_split(file_content, len(file_content)/10)):\n",
    "                  file_to_store = f'part_file_{index}.json'\n",
    "                  print(f'file_to_store:{file_to_store} and loc:{data}')\n",
    "                  with open(os.path.join(file_dir,file_to_store),\"w\" ) as fout:\n",
    "                    print(f'current chunk range:{len(file_content[data:data+chunk_size])} and from {data} to {data+chunk_size}')\n",
    "                    json.dump( file_content[data:data+chunk_size],fout)\n",
    "                combined_content.extend(file_content)\n",
    "                # print(combined_content)\n",
    "            break\n",
    "        return combined_content\n",
    "    else:\n",
    "        return -1\n",
    "# file_dir = \"/content/drive/MyDrive/KPO/Classfication/DATA-SETS/MAY\"\n",
    "os.listdir(file_dir)\n",
    "# df = pd.DataFrame(read_dir_json(file_dir ))"
   ]
  },
  {
   "cell_type": "code",
   "execution_count": null,
   "metadata": {
    "id": "dLUSb3Ctq_nP"
   },
   "outputs": [],
   "source": [
    "import os\n",
    "os.environ['CUDA_LAUNCH_BLOCKING'] = \"1\"\n",
    "\n",
    "\n",
    "import numpy as np\n",
    "# import pandfileas as pd\n",
    "# from datasets import load_dataset, load_metric\n",
    "# from huggingface_hub import notebook_login\n",
    "# from matplotlib import pyplot as plt\n",
    "from transformers import (\n",
    "    AutoModelForSequenceClassification,BertForSequenceClassification,\n",
    "    AutoTokenizer,\n",
    "    Trainer,\n",
    "    TrainingArguments,\n",
    ")\n",
    "\n",
    "# import mlflow"
   ]
  },
  {
   "cell_type": "code",
   "execution_count": null,
   "metadata": {
    "id": "BwOETCcNd2Qi"
   },
   "outputs": [],
   "source": [
    "file_dir \n",
    "abs_file = os.path.join(file_dir,'21-123-1932_cleaned.json')\n",
    "abs_file"
   ]
  },
  {
   "cell_type": "code",
   "execution_count": null,
   "metadata": {
    "id": "Sq0KLaP2yPYm"
   },
   "outputs": [],
   "source": [
    "import pyarrow as pa\n",
    "import pyarrow.dataset as ds\n",
    "import pandas as pd\n",
    "from datasets import Dataset\n",
    "import datasets\n",
    "from sklearn import preprocessing\n",
    "\n",
    "le = preprocessing.LabelEncoder()\n",
    "df = pd.read_json(abs_file)\n",
    "\n",
    "df['ImageText'] = df['ImageText'].map(lambda x: ' '.join(x)  if isinstance(x,list) else  x)\n",
    "df= df[ df['category'] != 'Duplicates']\n",
    "\n",
    "label = 'category'\n",
    "target = 'ImageText'\n",
    "\n",
    "lable_dict = df_label_dict_column(df,label=label,target_columns = target)\n",
    "df['category'] = le.fit_transform(df['category'])\n",
    "print(lable_dict)\n",
    "df.dropna(inplace=True)\n",
    "dataset = Dataset(pa.Table.from_pandas(df))\n",
    "### convert to Huggingface dataset\\\n",
    "# dataset"
   ]
  },
  {
   "cell_type": "code",
   "execution_count": null,
   "metadata": {},
   "outputs": [],
   "source": [
    "df.info()"
   ]
  },
  {
   "cell_type": "code",
   "execution_count": null,
   "metadata": {},
   "outputs": [],
   "source": [
    "df['category'].unique()"
   ]
  },
  {
   "cell_type": "code",
   "execution_count": null,
   "metadata": {
    "id": "jNwiSEGOSpRy"
   },
   "outputs": [],
   "source": [
    "dataset =dataset.rename_column('ImageText','text')\n",
    "dataset = dataset.rename_column('category','label')"
   ]
  },
  {
   "cell_type": "code",
   "execution_count": null,
   "metadata": {},
   "outputs": [],
   "source": [
    "dataset[0]"
   ]
  },
  {
   "cell_type": "code",
   "execution_count": null,
   "metadata": {
    "id": "Qo_RjRWrZWig"
   },
   "outputs": [],
   "source": [
    "x = dataset.train_test_split(test_size=0.2)\n",
    "train_dataset, test_dataset = x.get('train'),x.get('test')"
   ]
  },
  {
   "cell_type": "code",
   "execution_count": null,
   "metadata": {
    "id": "-eDO7UGbu-3Z"
   },
   "outputs": [],
   "source": [
    " metric = datasets.load_metric(\"accuracy\")\n",
    "\n",
    "\n",
    "def compute_metrics(eval_pred):\n",
    "    logits, labels = eval_pred\n",
    "    predictions = np.argmax(logits, axis=-1)\n",
    "    return metric.compute(predictions=predictions, references=labels)"
   ]
  },
  {
   "cell_type": "code",
   "execution_count": null,
   "metadata": {
    "id": "PvhjKjvErCwR"
   },
   "outputs": [],
   "source": [
    "tokenizer_name=\"bert-base-uncased\"\n",
    "model = BertForSequenceClassification.from_pretrained(tokenizer_name,  num_labels=20,\n",
    "                                                          output_attentions=False,\n",
    "                                                          output_hidden_states=False)\n",
    "tokenizer = AutoTokenizer.from_pretrained(tokenizer_name)"
   ]
  },
  {
   "cell_type": "code",
   "execution_count": null,
   "metadata": {
    "id": "pzVKszS2rzEm"
   },
   "outputs": [],
   "source": [
    " def tokenize_function(examples):\n",
    "    return tokenizer(examples[\"text\"], padding=\"max_length\", truncation=True)\n",
    "\n",
    "\n",
    "train_dataset = train_dataset.map(tokenize_function, batched=True)\n",
    "test_dataset = test_dataset.map(tokenize_function, batched=True)"
   ]
  },
  {
   "cell_type": "code",
   "execution_count": null,
   "metadata": {
    "id": "OtuqZOyswF9-"
   },
   "outputs": [],
   "source": [
    "train_dataset"
   ]
  },
  {
   "cell_type": "code",
   "execution_count": null,
   "metadata": {
    "id": "t9lov5-LuGfw"
   },
   "outputs": [],
   "source": [
    "!pip install --upgrade accelerate"
   ]
  },
  {
   "cell_type": "code",
   "execution_count": null,
   "metadata": {
    "id": "nZLnzxFJrC1x"
   },
   "outputs": [],
   "source": []
  },
  {
   "cell_type": "code",
   "execution_count": null,
   "metadata": {
    "id": "k2szNOGCu51R"
   },
   "outputs": [],
   "source": []
  },
  {
   "cell_type": "code",
   "execution_count": null,
   "metadata": {
    "id": "FuY4zLmjreX8"
   },
   "outputs": [],
   "source": [
    " training_args = TrainingArguments(\n",
    "\n",
    "    num_train_epochs=5,\n",
    "    output_dir=\"./output\",\n",
    "   # logging_steps=20,\n",
    "    save_strategy=\"epoch\",\n",
    "     evaluation_strategy = \"epoch\",\n",
    "     logging_strategy  = \"epoch\",\n",
    "\n",
    ")\n",
    "trainer = Trainer(\n",
    "    model=model,\n",
    "    args=training_args,\n",
    "    train_dataset=train_dataset,\n",
    "    eval_dataset=test_dataset,\n",
    "    compute_metrics=compute_metrics,\n",
    "    \n",
    ")\n",
    "with mlflow.start_run(run_name= \"welcome\") as run:\n",
    "    mlflow.pytorch.autolog()\n",
    "    trainer.train()"
   ]
  },
  {
   "cell_type": "code",
   "execution_count": null,
   "metadata": {},
   "outputs": [],
   "source": [
    "mlflow.end_run()"
   ]
  },
  {
   "cell_type": "code",
   "execution_count": null,
   "metadata": {
    "id": "wQ9BvjfBPEfJ"
   },
   "outputs": [],
   "source": [
    "import pandas as pd, os, re\n",
    "\n",
    "import numpy as np\n",
    "import pandas as pd\n",
    "import torch, random\n",
    "import torch.nn as nn\n",
    "from sklearn.model_selection import train_test_split\n",
    "from sklearn.metrics import classification_report\n",
    "import transformers\n",
    "from transformers import AutoModel, BertTokenizerFast, BertForSequenceClassification, BertTokenizer\n",
    "from torch.utils.data import Dataset, TensorDataset\n",
    "from sklearn.model_selection import train_test_split\n",
    "from torch.utils.data import DataLoader, RandomSampler, SequentialSampler\n",
    "from transformers import AdamW, get_linear_schedule_with_warmup\n",
    "from sklearn.metrics import f1_score\n",
    "import random\n",
    "from tqdm import tqdm\n",
    "from transformers import pipeline\n",
    "import json, os\n",
    "from transformers import BertConfig\n",
    "\n",
    "\n"
   ]
  },
  {
   "cell_type": "code",
   "execution_count": null,
   "metadata": {},
   "outputs": [],
   "source": [
    "file_dir = os.path.join(os.environ['HOME'],r\"KPO/SOURCE\")\n",
    "model_store_dir = os.path.join(os.environ['HOME'],r\"KPO/MODELS\")\n",
    "# MODEL_TYPE = \"PAGE_SEGMENTER\"\n",
    "MODEL_TYPE = \"PAGE_CATEGORY\"\n",
    "\n",
    "file_dir"
   ]
  },
  {
   "cell_type": "code",
   "execution_count": null,
   "metadata": {
    "colab": {
     "base_uri": "https://localhost:8080/"
    },
    "id": "2yQwj2v9PNua",
    "outputId": "c340a20b-fdce-4761-d822-cd9a8a4e7a44"
   },
   "outputs": [],
   "source": [
    "device = torch.device('cuda' if torch.cuda.is_available() else 'cpu')\n",
    "# device = \"cpu\"\n",
    "print(\"device:\",device)\n",
    "seed_val = 42\n",
    "random.seed(seed_val)\n",
    "np.random.seed(seed_val)\n",
    "torch.manual_seed(seed_val)\n",
    "torch.cuda.manual_seed_all(seed_val)\n",
    "###google drive\n",
    "gdrive_home = model_store_dir\n",
    "\n",
    "#### Projects\n",
    "project_sponser = \"KPO\"\n",
    "project_type= \"Classfication\"\n",
    "project_algo = \"BERT\"\n",
    "model_storage = \"MODELS\"\n",
    "data_set_dir = \"DATA-SETS\"\n",
    "base_model = \"BERT\"\n",
    "base_model_fine_tune =\"BOUNDRY_PRE_TRAIN\"\n",
    "# base_model_fine_tune =\"BOUNDRY_FINE_TUNE\"\n",
    "#model params\n",
    "max_length = 512\n",
    "epochs = 2\n",
    "epoch  = epochs\n",
    "batch_size = epochs\n",
    "#####\n",
    "project_name = \"KPO/BERT-MODELS/\"\n",
    "# MODEL_TYPE = \"PAGE_SEGMENTER\"\n",
    "MODEL_TYPE = \"PAGE_CATEGORY\"\n",
    "\n",
    "\n",
    "# model_store_dir = os.path.join(gdrive_home , project_sponser,project_type,project_algo,model_storage)\n",
    "save_model_name = '_'.join([project_type,MODEL_TYPE,str(max_length),base_model,base_model_fine_tune])\n",
    "# save_model_name = '_'.join([str(max_length),str(epochs),base_model,base_model_fine_tune])\n",
    "print(save_model_name,model_store_dir,sep=\"\\t#\")\n",
    "# file_dir =  os.path.join(gdrive_home,project_sponser,project_type,data_set_dir) #\"./drive/MyDrive/KPO/DATASETS/\"\n",
    "print(file_dir)\n",
    "load_model_name= \"Classfication_512_5_BERT_finetuned_512_5_21-03-23_05_22_25.model\"\n",
    "load_model_dir = model_store_dir"
   ]
  },
  {
   "cell_type": "code",
   "execution_count": null,
   "metadata": {
    "id": "cW2AXEFmxK8p"
   },
   "outputs": [],
   "source": [
    "print(f'{model_store_dir}/{save_model_name}.model')"
   ]
  },
  {
   "cell_type": "code",
   "execution_count": null,
   "metadata": {
    "id": "WAuBDarVxLEy"
   },
   "outputs": [],
   "source": []
  },
  {
   "cell_type": "code",
   "execution_count": null,
   "metadata": {
    "id": "E4WWdw0CsJiw"
   },
   "outputs": [],
   "source": [
    "bert_sequence_config = BertConfig( )"
   ]
  },
  {
   "cell_type": "code",
   "execution_count": null,
   "metadata": {
    "id": "n_B9sNG9LYeP"
   },
   "outputs": [],
   "source": [
    "\n",
    "bert_sequence_config = BertForSequenceClassification.from_pretrained(\n",
    "    'bert-base-uncased',\n",
    "    # num_labels = 2,\n",
    "    output_attentions = False,\n",
    "    output_hidden_states = False,\n",
    "    max_position_embeddings = max_length,\n",
    "    ignore_mismatched_sizes=True\n",
    ")\n",
    "bert_sequence_config"
   ]
  },
  {
   "cell_type": "code",
   "execution_count": null,
   "metadata": {
    "id": "k7NqUuz-XMtF"
   },
   "outputs": [],
   "source": [
    "bert_sequence_config = None"
   ]
  },
  {
   "cell_type": "code",
   "execution_count": null,
   "metadata": {
    "id": "4TTLBesVww2y"
   },
   "outputs": [],
   "source": [
    "def format_data(my_doc):\n",
    "  my_doc = re.sub(r'\\s+',\" \",my_doc)\n",
    "  # print(my_doc)\n",
    "  return my_doc \n",
    "# format_data(text)"
   ]
  },
  {
   "cell_type": "code",
   "execution_count": null,
   "metadata": {
    "id": "tla59PZPjTeV"
   },
   "outputs": [],
   "source": [
    "\n",
    "check_directory_exists(model_store_dir,file_dir)\n",
    "create_directories(list_of_directories=[model_store_dir,file_dir])"
   ]
  },
  {
   "cell_type": "code",
   "execution_count": null,
   "metadata": {
    "id": "8Q0Jg1KwSELB"
   },
   "outputs": [],
   "source": []
  },
  {
   "cell_type": "code",
   "execution_count": null,
   "metadata": {
    "id": "RyKQwBwHSLZn"
   },
   "outputs": [],
   "source": []
  },
  {
   "cell_type": "code",
   "execution_count": null,
   "metadata": {
    "id": "Zn18O08uPkUI"
   },
   "outputs": [],
   "source": [
    "model = initialize_model_raw(label_dict,bert_sequence_config,model_name = \"bert-base-uncased\",)\n",
    "print(model)"
   ]
  },
  {
   "cell_type": "code",
   "execution_count": null,
   "metadata": {
    "id": "PmO6ip8uHgQy"
   },
   "outputs": [],
   "source": [
    "import spacy\n",
    "nlp_spacy = spacy.load(\"en_core_web_trf\")\n",
    "\n",
    "def remove_carraige_return(my_text,headers=1):\n",
    "  my_lines = [ line for line in my_text.split(\"\\r\\n\") if line.strip() ]\n",
    "  if len(my_lines) > headers *2:\n",
    "    my_lines = my_lines[headers:-headers]\n",
    "\n",
    "  return '\\n'.join(my_lines)\n",
    "\n",
    "def restrict_line_tokens(my_text,my_length = 3,headers=1):\n",
    "  my_lines = [ line for line in my_text.split(\"\\r\\n\") if line.strip() ]\n",
    "  if len(my_lines) > headers *2:\n",
    "    my_lines = my_lines[headers:-headers] \n",
    "\n",
    "  my_lines = [ line for line in my_lines if line.strip() and len(line.split()) > my_length]\n",
    "  return '\\n'.join(my_lines)\n",
    "\n",
    "def restrict_verb_tokens(my_text,my_length = 3,headers=1):\n",
    "  my_lines = [ line for line in my_text.split(\"\\r\\n\") if line.strip() ]\n",
    "  if len(my_lines) > headers *2:\n",
    "    my_lines = my_lines[headers:-headers] \n",
    "\n",
    "  my_lines = [ line for line in my_lines if line.strip() and len(line.split()) > my_length]\n",
    "\n",
    "  filtered_lines =[]\n",
    "  for line in my_lines:\n",
    "    doc_line = nlp_spacy(line)\n",
    "    verb_tok = [ tok for tok in doc_line if tok.pos_ in ('VERB')]\n",
    "    if verb_tok:\n",
    "      filtered_lines.append(line)\n",
    "  return '\\n'.join(filtered_lines)  \n",
    "\n",
    "# remove_carraige_return(my_text,headers=5)\n",
    "# restrict_line_tokens(my_text,my_length = 3,headers=5)\n",
    "# restrict_verb_tokens(my_text,my_length = 3,headers=5)\n",
    "# def remove_header(record, number_of_lines):\n",
    "\n"
   ]
  },
  {
   "cell_type": "code",
   "execution_count": null,
   "metadata": {
    "colab": {
     "base_uri": "https://localhost:8080/"
    },
    "id": "wVZW80v5_bOb",
    "outputId": "d03a6752-bd65-4961-df46-e6b7173744c8"
   },
   "outputs": [],
   "source": [
    "\n",
    "from pathlib import Path\n",
    "max_length=512\n",
    "def train_model(file_dir,df,Target_variable = \"category\",features='ImageText',model_checkpoint =\"bert-base-uncased\"):\n",
    "  epochs = 2\n",
    "  batch_size = 20\n",
    "  label = Target_variable\n",
    "  features = 'ImageText'\n",
    "  # return\n",
    "  # label_dict = df_label_dict(df,label = Target_variable)\n",
    "  \n",
    "  label_dict = df_label_dict_column(df,label=Target_variable,target_columns = features)\n",
    "  print(label_dict)\n",
    "  df = clean_df(df,label_dict,label = Target_variable)\n",
    "  df = split_data(df,label=label)\n",
    "  print(df.columns)\n",
    "  df = df.sample(frac=1)\n",
    "  save_model_name = '_'.join([project_type,MODEL_TYPE,str(max_length),str(epochs),base_model,base_model_fine_tune,features])\n",
    "  print(f'Model willbe stored at :{ save_model_name}')\n",
    "  # tokenizer = intitialize_tokenizers_roberta(tokenizer_name= model_checkpoint)\n",
    "  f'{model_store_dir}/{save_model_name}_{max_length}_tokenizer'\n",
    "  return\n",
    "  tokenizer = intitialize_tokenizers(tokenizer_name= model_checkpoint)\n",
    "\n",
    "  \n",
    "  dataset_train,dataset_val    = tokenize_data_with_tokenizer(tokenizer,df,features=features,label = label,max_length=max_length)\n",
    "  dataloader_train, dataloader_validation   = bind_data_loader(dataset_train,dataset_val,batch_size = batch_size)\n",
    "  model = initialize_model(label_dict,model_name = model_checkpoint,)\n",
    "  optimizer = initalize_optimizer(model,  lr=1e-5, eps=1e-8)\n",
    "  # scheduler = iniatlize_scheduler(optimizer,epochs=10)\n",
    "  scheduler = iniatlize_scheduler_custom_param(dataloader_train,optimizer,epochs = epochs)\n",
    "\n",
    "  model = initiate_training_custom(model,dataloader_train,dataloader_validation,epochs,model_store_dir,save_model_name,\n",
    "                                   optimizer,scheduler)\n",
    "  _, predictions, true_vals = evaluate_model(dataloader_validation,model,device)\n",
    "  # accuracy_per_class(predictions, true_vals,label_dict)\n",
    "  t = accuracy_per_class(predictions, true_vals,label_dict)\n",
    "  with open(os.path.join(model_store_dir,\"_valid_logs.log\"),\"a\") as fp:\n",
    "    t['file_name'] = file_dir \n",
    "    fp.writelines(t)\n",
    "  os.rename(file_dir,f'{file_dir+\"l\"}')  \n",
    "  return None\n",
    "# df.sample(frac=1,)\n",
    "features= 'ImageText'\n",
    "def iterative_model_training(file_dir=None,file_type = \".json\" ):\n",
    "  print('file_dir:',file_dir)\n",
    "  file_list = [ file for file in os.listdir( os.path.join(file_dir)) if os.path.isfile(os.path.join(file_dir,file) )\n",
    "    and file.endswith(file_type)\n",
    "    # and file not in ['21-123-1922_cleaned.json']\n",
    "    #  and file.startswith(\"part_file_\")\n",
    "    ]\n",
    "  print(\"File lists:\",file_list)\n",
    "  for file in file_list[0:4]:\n",
    "    with mlflow.start_run(run_name=file) as run:\n",
    "        mlflow.pytorch.autolog()\n",
    "        abs_file_name = os.path.join(file_dir,file)\n",
    "        print(\"Processing:\",file,abs_file_name)\n",
    "        # return\n",
    "        df = pd.read_json(abs_file_name)\n",
    "        df['ImageText'] = df['ImageText'].map(lambda x: ' '.join(x)  if isinstance(x,list) else  x)\n",
    "        print(df.columns,df['category'].unique())\n",
    "        df = df[ df['category'] != 'Duplicates']\n",
    "        features= 'ImageText'\n",
    "        # train_model(abs_file_name,df,Target_variable = \"category\",features=features,model_checkpoint =\"bert-base-uncased\") \n",
    "        # continue\n",
    "        # Target_variable = \"Isstart\"\n",
    "        Target_variable = \"category\"\n",
    "        label = Target_variable\n",
    "        target_variable = label\n",
    "        features = 'ImageText'\n",
    "        print(df.info())\n",
    "        df[Target_variable] = df[Target_variable].map(lambda x: str(x))\n",
    "        print(df.info())\n",
    "        print(df.head(3))\n",
    "     \n",
    "        label_dict = df_label_dict_column(df,label=Target_variable,target_columns = features)\n",
    "        print(f\"Label dict#####{label_dict}\")\n",
    "        df = clean_df(df,label_dict,label = Target_variable)\n",
    "        df = split_data(df,label=label)\n",
    "        print(\"Unique Labels:\",df[Target_variable].unique())\n",
    "        print(\"size:\",len(df))\n",
    "        print(df[Target_variable])\n",
    "        df = df.sample(frac=1)\n",
    "        df_train = df[df.data_type=='train']\n",
    "        df_test = df[df.data_type=='val'] \n",
    "        from datetime import datetime\n",
    "        date_time_ =  datetime.now().strftime('%d-%m-%y_%H_%M_%S')\n",
    "        train_file_name_abs = os.path.join(os.environ['HOME'],r\"KPO/TRAIN\",Path(file).stem + f'_train_{date_time_}.json')\n",
    "        val_file_name_abs = os.path.join(os.environ['HOME'],r\"KPO/TEST\",Path(file).stem +f'_val_{date_time_}.json') \n",
    "        with open(train_file_name_abs,\"w\") as fp:\n",
    "          df_train.to_json(fp,indent=2,orient='records')\n",
    "        with open(val_file_name_abs,\"w\") as fp:\n",
    "          df_test.to_json(fp,indent=2,orient='records')        \n",
    "        model_checkpoint =\"bert-base-uncased\"\n",
    "        location = f'{model_store_dir}/{save_model_name}_{max_length}_tokenizer'\n",
    "        tokenizer = intitialize_tokenizers_raw(tokenizer_name= model_checkpoint, \n",
    "                                               max_length=max_length,tokenizer_instance = BertTokenizer,\n",
    "                                               location= location)\n",
    "        print('here:',df[df.data_type=='train'][label].values)\n",
    "        dataset_train,dataset_val    =  tokenize_data_with_tokenizer(tokenizer,df,features=features,label=target_variable, max_length=max_length)\n",
    "        epochs = 5\n",
    "        batch_size = 5\n",
    "        print(type(dataset_train))\n",
    "        dataloader_train, dataloader_validation   = bind_data_loader(dataset_train,dataset_val,batch_size = batch_size)\n",
    "        model = initialize_model_raw(bert_sequence_config,model_instance = BertForSequenceClassification,\n",
    "                             MODEL_STORE=model_store_dir,MODEL_NAME_STRING = save_model_name,model_check_point = 'bert-base-uncased',\n",
    "                             num_labels=2)\n",
    "        optimizer = initalize_optimizer(model,  lr=1e-5, eps=1e-8)\n",
    "        scheduler = iniatlize_scheduler_custom_param(dataloader_train,optimizer,epochs=epochs)\n",
    "      \n",
    "        initiate_training_custom(model,dataloader_train,dataloader_validation,\n",
    "                                          epochs,model_store_dir,save_model_name,\n",
    "                                       optimizer,scheduler)\n",
    "        _, predictions, true_vals = evaluate_model(dataloader_validation,model,device)\n",
    "        t = accuracy_per_class(predictions, true_vals,label_dict)\n",
    "        print(\"t:\",t)\n",
    "        for i in t:\n",
    "            class_ = i.get('Class')\n",
    "            accuracy_ = i.get('Accuracy')\n",
    "            predicted_ = i.get('predicted')\n",
    "            actuals_ = i.get('actuals')\n",
    "            mlflow.log_metric(class_,accuracy_)\n",
    "            mlflow.log_param(f'{class_}_nums',f'{predicted_}/{actuals_}')\n",
    "        # if os.path.isfile(os.path.join(model_store_dir,\"_valid_logs.json\")):\n",
    "        #   with open(os.path.join(model_store_dir,\"_valid_logs.json\"),\"r\") as fr:\n",
    "        #     data = None\n",
    "        #     data = json.load(fr)\n",
    "        #     if data is None:\n",
    "        #       data = []\n",
    "        #     t['file_name'] = abs_file_name \n",
    "        #     data.append(t)\n",
    "        #   with open(os.path.join(model_store_dir,\"_valid_logs.json\"),\"w\") as fw:      \n",
    "        #     json.dump(data,fw)\n",
    "        # else:\n",
    "        #   data =[]\n",
    "        #   data.append(t)\n",
    "        #   with open(os.path.join(model_store_dir,\"_valid_logs.json\"),\"w\") as fw:      \n",
    "        #     json.dump(data,fw)\n",
    "        # os.rename(abs_file_name,f'{abs_file_name+\"l\"}')\n",
    "\n",
    "print(device)\n",
    "\n",
    "iterative_model_training(file_dir=file_dir)\n",
    "# build_model(file_dir,df,Target_variable = \"category\",features=features,model_checkpoint =\"bert-base-uncased\")  \n",
    "# train_model(file_dir,df,Target_variable = \"category\",features=features,model_checkpoint =\"bert-base-uncased\") "
   ]
  },
  {
   "cell_type": "code",
   "execution_count": null,
   "metadata": {
    "id": "-DN73ouv5U6U"
   },
   "outputs": [],
   "source": [
    "mlflow.end_run()"
   ]
  },
  {
   "cell_type": "code",
   "execution_count": null,
   "metadata": {
    "id": "hXqjY6hd_V9d"
   },
   "outputs": [],
   "source": []
  },
  {
   "cell_type": "code",
   "execution_count": null,
   "metadata": {
    "id": "Ic9wqL7fIr8V"
   },
   "outputs": [],
   "source": [
    "text = [\n",
    "\"\"\"LMG - Email1E3062227710001WORKERS COMPENSATION - FIRST REPORT OF INJURY OR ILLNESSCARRIER ADMINISTRATOR CLAIM NUMBEROSHA LOG NUMBERREPORT PURPOSE CODEEMPLOYER NAMIE & ADDRESS INCL ZIP;UPSWC413-F15544  60724505012400 W.  BLUEMOUND ROAD,JURISDICTIONJURISDICTION CLAIM NUHIBERELM GROVE,  WI  53122wrUNKNOWNINSURED REPORT NUHIBER2802881591**003056WLELMPKG5321P$$(999) 999-9999EMPLOYERS LOCATION ADDRESS  IF DIFFERENT,LOCATION #kkINDUSTRY CODEEHIPLOYER FEINPHONE #421549221036-2407381(262) 785-7271CARRIER/CLAIMS ADMINISTRATORCARRIER NAME ADDRESS & PHONEPOLICY PERIODCLAIIS ADMINISTRATOR NAME ADDRESS & PHONE NO;LIBERTY MUTUAL  INSURANCE  COMPANYToP.O.  Box 95401,Hoffman Estates,IL  60195(833) 457-4334CHECK IF APPROPRIATE seve insuranceCARRIER FEINPOLICY SELF INSURED NUMBERADMINISTRATOR FEIN04-1543470EMPLOYEE/WAGENAME LAST FIRST MIDDLE,DATE OF BIRTHSOCIAL SECURITY NUMBERDATE HIREDSTATE OF HIREXXX-XX-8370TOWNSEND  CHRISTOPHER06/20/196708/09/2022ADDRESS INCL ZIP;SEXMARITAL STATUSOCCUPATION JOB TITLE1550 N 28TH STREET,UNMARRIEDMILWAUKEE,  WI  53208MALESINGLE DIVORCEDPRELOADERUNKNOWNFEMALEMARBIEDEIIPLOYIIENT STATUSUUNKNOWNSEPARATEDPart  TimePHONE# OF DEPENDENTSUNKNOWN:NCCI CLASS CODE(414) 526-3412ORATE999.99DAYMONTHFULL PAY FOR DAY OF INJURY$!!$XYESNoPERWEEKOTHER58DID SALARY CONTINUE *YES                                                                                                                xNOxDAYS WEEK HOURS DAYOCCURRENCE/TREATMENTTIME EIIPLOYEEAMLDATE OF INJURY ILLNESSTINIE OF OCCURRENCEx   anLAST WORK DATEDATE EMPLOYER  NOTIFIEDDATE DISABILITY BEGANBEG,ANWO! RKPhi10/11/2022 CANNOT BE 01:30PM10/11/202211/02/202210/11/2022DETERMINED.CONTACT NAMIE PHONE NURIBER,TYPE OF INJURY ILLNESSPART OF BODY AFFECTEDBARLAND  JOHN-PAULINFLAMMATIONLow BACK  (LUMBAR OR LUMBO-SACR(262) 785-7271AL)DID INJURY ILLNESS EXPOSURE OCCUR ON EMPLOYER STYPE OF INJURY ILLNESS CODEPART OF BODY AFFECTED CODEPREI SES?[x YES  NO.3742DEPARTMENT OR LOCATION WHERE ACCIDENT OR ILLNESS EXPOSURE OCCURREDALL EQUIPMENT MATERIALS OR CHEMICALS EMPLOYEE WAS USING WHEN ACCIDENTOR ILLNESS EXPOSURE UCCUR| REDDEPARTMENT:5321PUNKNOWN12400 W.  BLUEMOUND ROAD,ELM GROVE,  WI  53122THEWORK PROCESS THE EIIPLOYEE WAS ENGAGED IN WHEN ACCIDENT OR ILLNESSSPECIFIC ACTIVITY EMPLOYEE WAS ENGAGED IN WHEN THE ACCIDENT OR ILLNESSEXPOSURE OCCURREDEXPOSURE OCCUR REDSLEEPINGHOW INJURY OF ILLNESS ABNORMAL HEALTH CONDITION OCCURRED DESCRIBE THE SEQUENCE OF EVENTS AND INCLUDE ANY OBJECTS OR SUBSTANCES THAT DIRECTLY INJURED THEEMPLOYEE OR BADE THE EMPLOYEE ILLEMPLOYEE ALLEGES  THAT HE WOKE UP  FOR WORK ON 10/12/22 HIS  BACK WAS  INCAUSE OF INJURY CODEPAIN.  NO  INCIDENT OCCURRED  BUT  IT MUST HAVE  BEEN FDATE RETURN ED; TO WORKIF FATAL GIVE DATE OF DEATHWERE SAFEGUARDS OR SAFETY EQUIPMENT PROVIDED?YESNoWERE THEY USED?YESNoPHYSICIAN HEALTH CARE PROVIDER NAIIE & ADDRESS,HOSPITAL OR OFF SITE TREATMENT NAMIE & ADDRESS,INITIAL TREATRIENT.NO MEDICAL TREATMENTAURORAMINOR  BY EMPLOYER2801 W KINNIKINNIC  RIVER PKWY,MILWAUKEEMINOR CLINIC HOSPEMERGENCY CARE(414) 649-6732HOSPITALIZED > 24 HRSLOST TIME ANTICIPATEDFUTURE MAJOR IIEDICALOTHERWITNESSES NAME & PHONE #DATE ADMINISTRATOR NOTIFIEDDATE PREPAREDPREPARER S$ NAIIE & TITLEPHONE NUMBERKWACIC, TIMOTH YX11/02/202211/02/2022(999) 999-9999x99FORM 1A-1 (r 1-1-02)                      SEE BACK FOR IMPORTANT INFORMATION                                     @ IAIABC 2002\"\"\"\n",
    "]\n",
    "text =\"LMG - Email1E3062227710001WORKERS COMPENSATION - FIRST REPORT OF INJURY OR ILLNESSCARRIER ADMINISTRATOR CLAIM NUMBEROSHA LOG NUMBERREPORT PURPOSE CODEEMPLOYER NAMIE & ADDRESS INCL ZIP;UPSWC413-F15544  60724505012400 W.  BLUEMOUND ROAD,JURISDICTIONJURISDICTION CLAIM NUHIBERELM GROVE,  WI  53122wrUNKNOWNINSURED REPORT NUHIBER2802881591**003056WLELMPKG5321P$$(999) 999-9999EMPLOYERS LOCATION ADDRESS  IF DIFFERENT,LOCATION #kkINDUSTRY CODEEHIPLOYER FEINPHONE #421549221036-2407381(262) 785-7271CARRIER/CLAIMS ADMINISTRATORCARRIER NAME ADDRESS & PHONEPOLICY PERIODCLAIIS ADMINISTRATOR NAME ADDRESS & PHONE NO;LIBERTY MUTUAL  INSURANCE  COMPANYToP.O.  Box 95401,Hoffman Estates,IL  60195(833) 457-4334CHECK IF APPROPRIATE seve insuranceCARRIER FEINPOLICY SELF INSURED NUMBERADMINISTRATOR FEIN04-1543470EMPLOYEE/WAGENAME LAST FIRST MIDDLE,DATE OF BIRTHSOCIAL SECURITY NUMBERDATE HIREDSTATE OF HIREXXX-XX-8370TOWNSEND  CHRISTOPHER06/20/196708/09/2022ADDRESS INCL ZIP;SEXMARITAL STATUSOCCUPATION JOB TITLE1550 N 28TH STREET,UNMARRIEDMILWAUKEE,  WI  53208MALESINGLE DIVORCEDPRELOADERUNKNOWNFEMALEMARBIEDEIIPLOYIIENT STATUSUUNKNOWNSEPARATEDPart  TimePHONE# OF DEPENDENTSUNKNOWN:NCCI CLASS CODE(414) 526-3412ORATE999.99DAYMONTHFULL PAY FOR DAY OF INJURY$!!$XYESNoPERWEEKOTHER58DID SALARY CONTINUE *YES                                                                                                                xNOxDAYS WEEK HOURS DAYOCCURRENCE/TREATMENTTIME EIIPLOYEEAMLDATE OF INJURY ILLNESSTINIE OF OCCURRENCEx   anLAST WORK DATEDATE EMPLOYER  NOTIFIEDDATE DISABILITY BEGANBEG,ANWO! RKPhi10/11/2022 CANNOT BE 01:30PM10/11/202211/02/202210/11/2022DETERMINED.CONTACT NAMIE PHONE NURIBER,TYPE OF INJURY ILLNESSPART OF BODY AFFECTEDBARLAND  JOHN-PAULINFLAMMATIONLow BACK  (LUMBAR OR LUMBO-SACR(262) 785-7271AL)DID INJURY ILLNESS EXPOSURE OCCUR ON EMPLOYER STYPE OF INJURY ILLNESS CODEPART OF BODY AFFECTED CODEPREI SES?[x YES  NO.3742DEPARTMENT OR LOCATION WHERE ACCIDENT OR ILLNESS EXPOSURE OCCURREDALL EQUIPMENT MATERIALS OR CHEMICALS EMPLOYEE WAS USING WHEN ACCIDENTOR ILLNESS EXPOSURE UCCUR| REDDEPARTMENT:5321PUNKNOWN12400 W.  BLUEMOUND ROAD,ELM GROVE,  WI  53122THEWORK PROCESS THE EIIPLOYEE WAS ENGAGED IN WHEN ACCIDENT OR ILLNESSSPECIFIC ACTIVITY EMPLOYEE WAS ENGAGED IN WHEN THE ACCIDENT OR ILLNESSEXPOSURE OCCURREDEXPOSURE OCCUR REDSLEEPINGHOW INJURY OF ILLNESS ABNORMAL HEALTH CONDITION OCCURRED DESCRIBE THE SEQUENCE OF EVENTS AND INCLUDE ANY OBJECTS OR SUBSTANCES THAT DIRECTLY INJURED THEEMPLOYEE OR BADE THE EMPLOYEE ILLEMPLOYEE ALLEGES  THAT HE WOKE UP  FOR WORK ON 10/12/22 HIS  BACK WAS  INCAUSE OF INJURY CODEPAIN.  NO  INCIDENT OCCURRED  BUT  IT MUST HAVE  BEEN FDATE RETURN ED; TO WORKIF FATAL GIVE DATE OF DEATHWERE SAFEGUARDS OR SAFETY EQUIPMENT PROVIDED?YESNoWERE THEY USED?YESNoPHYSICIAN HEALTH CARE PROVIDER NAIIE & ADDRESS,HOSPITAL OR OFF SITE TREATMENT NAMIE & ADDRESS,INITIAL TREATRIENT.NO MEDICAL TREATMENTAURORAMINOR  BY EMPLOYER2801 W KINNIKINNIC  RIVER PKWY,MILWAUKEEMINOR CLINIC HOSPEMERGENCY CARE(414) 649-6732HOSPITALIZED > 24 HRSLOST TIME ANTICIPATEDFUTURE MAJOR IIEDICALOTHERWITNESSES NAME & PHONE #DATE ADMINISTRATOR NOTIFIEDDATE PREPAREDPREPARER S$ NAIIE & TITLEPHONE NUMBERKWACIC, TIMOTH YX11/02/202211/02/2022(999) 999-9999x99FORM 1A-1 (r 1-1-02)                      SEE BACK FOR IMPORTANT INFORMATION                                     @ IAIABC 2002\"\n",
    "text = \"ILLINOIS FORM 45: EMPLOYER'S FIRST REPORT OF INJURY Please type or print.  Employer's FEIN  Date of report  Case or File #  Is this a lost workday case?                    Yes                No      Employer's name  Doing business as Authorization RequestNovember 16, 2020    Josephine Davis, Employer's mailing address   Employer’s email address Optum has received a request for the following products/services to be dispensed for Claim 19F42J101164.Provider Information:    We areNam unablee: to staff at our contractedMidwest Medical Enterp rates, either due torises, In a low cState Fee Schedule/Fair Health value  Nature of business or service  SIC code and/or location of services. This is notification that we will be staffing this referral at above contracted NPI: 1194055475  rates should this order be approved. Please respond to this request within 24 hours   with AUTHORIZED TIN: 27-1564834and the applicable authorization number or DENIED. Name of workers' compensation carrier/admin.  Policy/Contract #  Self-insured? Address: 2295 Parklake Drive NE, Suite 100Atlanta, GA 30345                  Yes                No       Employee's full name   Birthdate Patient Demos:Patient Name: DEANNA HELFER Optum Customer Care Representative:Patient Name: Helfers, Deanna    Claim Number: 19F42J101164 Denise DeanDOB: 12/06/65 Employee's mailing address  Employee's e-mail address Diagnosis Codes: T14.90 Denise.Dean1@optum.comPatient Address: 1116 Sommer Street     Prescribing Physician: RICHARD ANDERSON - 1699703892Pekin, IL 61554 F: Gender  Marital status  # Dependents  Employee's average weekly wage CarePoint ID #: ORDGN0066703 P: (888)880-1087 ext 6417SSN:                Male                Female              Married             Single   Payer Name: CCMSI - CHICAGO, IL Job title or occupation  Date hired Payer ID: PY060800151WC Information:    Insurance Carrier: CCMSI Time employee began work   Date and time of accident  Last day employee worked Employer: Items being requested:     DOI: DOI 10/4/19* Below line item(s) may not include tax and/or shipping charges. If the employee died as a result of the accident, give the date of death.   Did the accident occur on the employer's premises? Adjuster Name:Rental or Total Req. Service Service  Adjuster/Insurance Phone: Ext.             Yes                No      HCPCS/CPT Description Qty Unit PricePurchase Price Ship Date Start Date End Date Address of accident Home Health OT Occupational Therapy97165 1 PURCHASE $358.47 $358.47 10/09/19 10/08/19 10/15/19Evaluation, Low ComplexityRequested DME:  S9129 OT Visit 3 PURCHASE $291.25 $873.75 10/09/19 10/08/19 10/15/19CPT Code(s) and Quantity: E0676 RR What was the employee doing when the accident occurred? Home Health PT Physical TherapyDME Description: 1 DVT Unit (Unit includes 2 DVT Wraps (1 for each leg))97161 1 PURCHASE $356.93 $356.93 10/09/19 10/08/19 10/15/19  Evaluation Low ComplexityManufacturer: Covidien How did the accident occur? S9131 PHYSICAL THERAPY VISIT 3 PURCHASE $290.00 $870.00 10/09/19 10/08/19 10/15/19PIN: Kendall SCD 700  '*Total Expected Reimbursement: $2,459.15 What was the injury or illness? List the part of body affected and explain how it was affected. Billing Contact Information:  Name: Dynamic Medical Management What object or substance, if any, directly harmed the employee?  Phone No: 573-474-9304   Name and address of physician/health care professional     If treatment was given away from the worksite, list the name and address of the place it was given.    Please respond via email with approval or denial. Was the employee treated in an emergency room?   Was the employee hospitalized overnight as an inpatient? Company and clients shall not tender payment for covered services to Progressive Medical, LLC DBA Optum Workers Compensation Services of Ohio (FEIN 31-                Yes                No                  Yes                No    1192384) providers or to any person or entity other than Optum.  Company agrees that it will not disclose the compensation payable to Optum pursuant to theterms of the agreement except to the extent required by applicable law or as may be required in order to carry out the terms of this agreement. During the term Report prepared by  Signature  Title and telephone \"\n",
    "# text = \"ILLINOIS FORM 45: EMPLOYER'S FIRST REPORT OF INJURY Please type or print.  Employer's FEIN  Date of report  Case or File #  Is this a lost workday case?                    Yes                No      Employer's name  Doing business as Authorization RequestNovember 16, 2020    Josephine Davis, Employer's mailing address   Employer’s email address Optum has received a request for the following products/services to be dispensed for Claim 19F42J101164.Provider Information:    We areNam unablee: to staff at our contractedMidwest Medical Enterp rates, either due torises, In a low cState Fee Schedule/Fair Health value  Nature of business or service  SIC code and/or location of services. This is notification that we will be staffing this referral at above contracted NPI: 1194055475  rates should this order be approved. Please respond to this request within 24 hours   with AUTHORIZED TIN: 27-1564834and the applicable authorization number or DENIED. Name of workers' compensation carrier/admin.  Policy/Contract #  Self-insured? Address: 2295 Parklake Drive NE, Suite 100Atlanta, GA 30345                  Yes                No       Employee's full name   Birthdate Patient Demos:Patient Name: DEANNA HELFER Optum Customer Care Representative:Patient Name: Helfers, Deanna    Claim Number: 19F42J101164 Denise DeanDOB: 12/06/65 Employee's mailing address  Employee's e-mail address Diagnosis Codes: T14.90 Denise.Dean1@optum.comPatient Address: 1116 Sommer Street     Prescribing Physician: RICHARD ANDERSON - 1699703892Pekin, IL 61554 F: Gender  Marital status  # Dependents  Employee's average weekly wage CarePoint ID #: ORDGN0066703 P: (888)880-1087 ext 6417SSN:                Male                Female              Married             Single   Payer Name: CCMSI - CHICAGO, IL Job title or occupation  Date hired Payer ID: PY060800151WC Information:    Insurance Carrier: CCMSI Time employee began work   Date and time of accident  Last day employee worked Employer: Items being requested:     DOI: DOI 10/4/19* Below line item(s) may not include tax and/or shipping charges. If the employee died as a result of the accident, give the date of death.   Did the accident occur on the employer's premises? Adjuster Name:Rental or Total Req. Service Service  Adjuster/Insurance Phone: Ext.             Yes                No      HCPCS/CPT Description Qty Unit PricePurchase Price Ship Date Start Date End Date Address of accident Home Health OT Occupational Therapy97165 1 PURCHASE $358.47 $358.47 10/09/19 10/08/19 10/15/19Evaluation, Low ComplexityRequested DME:  S9129 OT Visit 3 PURCHASE $291.25 $873.75 10/09/19 10/08/19 10/15/19CPT Code(s) and Quantity: E0676 RR What was the employee doing when the accident occurred? Home Health PT Physical TherapyDME Description: 1 DVT Unit (Unit includes 2 DVT Wraps (1 for each leg))97161 1 PURCHASE $356.93 $356.93 10/09/19 10/08/19 10/15/19  Evaluation Low ComplexityManufacturer: Covidien How did the accident occur? S9131 PHYSICAL THERAPY VISIT 3 PURCHASE $290.00 $870.00 10/09/19 10/08/19 10/15/19PIN: Kendall SCD 700  '*Total Expected Reimbursement: $2,459.15 What was the injury or illness? List the part of body affected and explain how it was affected. Billing Contact Information:  Name: Dynamic Medical Management What object or substance, if any, directly harmed the employee?  Phone No: 573-474-9304   Name and address of physician/health care professional     If treatment was given away from the worksite, list the name and address of the place it was given.    Please respond via email with approval or denial. Was the employee treated in an emergency room?   Was the employee hospitalized overnight as an inpatient? Company and clients shall not tender payment for covered services to Progressive Medical, LLC DBA Optum Workers Compensation Services of Ohio (FEIN 31-                Yes                No                  Yes                No    1192384) providers or to any person or entity other than Optum.  Company agrees that it will not disclose the compensation payable to Optum pursuant to theterms of the agreement except to the extent required by applicable law or as may be required in order to carry out the terms of this agreement. During the term Report prepared by  Signature  Title and telephone #  Email address  of this agreement, company shall not directly or indirectly communicate with providers in an effort to obtain covered services from such providers directly asopposed to through the Optum program.     THIS DOCUMENT MAY CONTAIN CONFIDENTIAL OR PROPRIETARY INFORMATION, INCLUDING PATIENT HEALTH INFORMATION THAT IS PROTECTED UNDER HIPAAPlease send this form to: ILLINOIS WORKERS' COMPENSATION COMMISSION 4500 S. SIXTH ST. FRONTAGE RD SPRINGFIELD, IL  62703 Midwest Medical Enterprises, IncAND OTHER STATE AND FEDERAL CONFIDENTIALITY LAWS.  PLEASE DELIVER IMMEDIATELY ONLY TO THE INTENDED RECIPIENT.  IF THIS TRANSMISSION WASBy law, employers must keep accurate records of all work-related injuries and illness (except for certain minor injuries).  Employers shall RECEIVED IN ERROR, PLEASE CONTACT THE SENDER IMMEDIATELY AND DO NOT DISTRIBUTE THE INFORMATION TO ANY OTHER PERSON.2295 Parklake Drive NE, Suite 100report to the Commission all injuries resulting in the loss of more than three scheduled workdays.  Filing this form does not affect liability Atlanta, GA 30345under the Workers’ Compensation Act and is not incriminatory in any way.  This information is confidential.   IC45  8/12 800-985-0409 \"\n",
    "text = [\"0372072009 3: oo: 39 AMSEDGWICK CMS                                     PAGE 6  OF 71/28/200912120773   333   1701                               Derr                             oo4soosCHART    NOTESUITE 007 HARVEY.MNanae:Shirley CollinsMR. #:(000237521 M.D.Date:September 23, 2005AttendingHoward RobDOB                   October 15, 1947                             TID *       Z730966ZMs. Collins is a very pleasant woman who is seen for routine physiatric followup of her significant low backpain and neck pain.She was last seen by me on Apri} 2008, and ar thar time underwent bilateral C4-5. css and C6-7 facet jointinjections.She notes good improvement.      her pain for abour 2-3 months. however, she notes her pain seers te behe notes severe pain in her neck and in her low beck racliating into herlegs. She             the neck pain might be a ittle bit worse.turning.  She is currently miserableCURRENT MEDICATIONS:  Mobic. Neurontin, Premarin andALLERGIES:  She rac no known drug allergies.PHYSICAL EXAMINATION:  She has no focal weakness.IMPRESSION:1.  Neck pain related to her cervical facet syndrome.2.  Previous multilevel cervical laminectomy.3.  EMG suggesuve                         ofa C7 radiculopathy                            on the left side.4.  Low back pam related to her L4-5 spinal stenosis with grade I slip.Bilateral hand numbness and tingling with lef hand symptoms suggestive of a complex regional painsyndrome tyne I.PLAN:1.  We will target her neck pain first with bilateral C4, C5, C6 and C7 medial branch blocks.2. Thomas Brown,Charles ©. wang. A. MD:1/28/200900270231000300001260060003/20/2009                                         0027692319                                 §220090320002866\"]\n",
    "text = [\"**  INBOUND NOTIFICATION  :FAX RECEIVED SUCCESSFULLY **TIME RECEIVEDREMOTE CSIDDURATIONPAGESSTATUSwed, 17 Dec 2008 13:43:33 -05001967342Received12/17/2668   1  : 4     1967   1967                                      ik} 1,To:Company :Fax Number :Phone Number :From:Fax Number :Phone Number :Time Sent:Pages :Description :MESSAGES:12/17/2008$1 (312)3476800RaeAnn Sanon678-346-7148678-730-1002Wednesday, December 17, 2008 01:42PM2Attn: Janet Moore0027692319§220081217006886\"]\n",
    "text = [\"09/15/2008  4:20:11OF 9F-778PAGE  5CHICAGO  INSTITUTE  OFNEUROSURGIRY  AND  NURORESEARCH        o RUSH            0 RUSH HPT: 412/863-4000          T 847/926-5005PMSEDGWICK CMS1-11-2008   08:31AM    FROMOCCUPATIO.AL HEALTHCLINICAL PATIENTSTATUS FORM NCHT: 773/250-0400F: 773/250-03770 ELMHURSTD INGALLSO NORTH SHORET: 630/758-8450T: 708/331-6669F 312/563-4005Fi 847/433-2295F; 630/758-8640F: 708/333-9902F: 847/677-1605Visit date:Treated patient:TO:reDOB.10Oo:DOI:Phone:SSNO Ast visitTreating physician:aChim# opinion  [IMECINN Case Manager:DiagnosisRequesting approval for a consule with CINN:Physician:O NeurosurgeryLocation:                                 nO PhysiaDD Behavioral MedicineRequesting approval for;Injection procedure/surgery recommended, (type):Recommend consul with non~CINN physician, Physician;Specialty:Details ta follow in letter,Requesting approval for: X-rays   OCTO MyelogramOEMG/NCVOFCEOther diagnostic test (specify)      Approvednature:DeniedApprovedDeniedD:SigtureDenied.Requesting approval for:                                                                                                                                                                                    ApprovedTreatmenc arCINN:   OPT   GOT   OST    o Work Conditioning                       Signacure:Treatment with anon CINN program.  Program:                                               Loearion:                 ~'Treatment:                                               Frequency:                                                Duration;WEIGHT FORGES.                                                    SIT/STAND/WALKC                                               BEND/TWIST   SAPETY/HEIGHTS/SLIPPERYD OFF WORKAND SHOULDERD LIGHT20 LBS OCCASIONAL, 10 LBS FREQUENT            ACTIVE SITING OR FREQUENT STANID/ WALK OCCASIONAL AVOIDD MEDIUM20-50 LBS OCCASIONAL, 10-20 IBS FREQUENT    FREQUENT STAND/WALK                         GCCASIONAL  AVOID© HEAVY              50-100 LBS OCCASIONAL, 25-50 LBS FREQUENT  FREQUENT STAND/WALK                                  FREQUENT         NOE avery SENSITIVEPOTIONNS0 VERY HEAVY = 100 LBS OCCASIONAL, 50-100 BS FREQUENT   MULTIPLE POSITION DEMANDS                     FREQUENTO OTHERO FULL DUTYReturn co work:                                                OReached MMI 0 Permanent partial restriction racing:            % whole body9/11/2008                           0027692319522008091 10040979/15/2008                           0027692319                      §220080915012063SITTING, CHANGE POSITION AS NEEDEDRAREAVOIDSEDENTARY   10 GS OCCASIONAL BETWEEN WAISTRestrictedRecheck schedule for:eleased from my care     0Follow up with referring MIDJ Restrictions ure permanent, derails to fallow in letrera TB.DOpinion of work relatedneD Work related        Not Work RelatedPhysicianatient Signarure: $!!$=                                   ¥                                                                               Dare:Faved B                                          Dore\"]\n",
    "text = [\"Fax Server          2/29/2022  [Li24:  27 AM   PAGE   1/010   Fax ServerBLESSINGHealth SystemDate: 2/25/2022To: WORK COMP LUDWIGPO Bax 7005 * Quincy,62305  »  217.223.8400blessingheathorg  Q@GOOOFrom: Blessing Health SystemLocation:Fax Number: 866-767-3290Department: Patient Financial ServicesImmediate Action: YesNumber of Pages (including this page): 10Message:Please review and processThanksChell Threet CRCS.Account SpecialistBlessing HospitalPFS Work comp217-223-8400 EXT 4189Fax 217-273-9945Mavni02/25/2022\",\n",
    "\"Fax Server          2/29/2022  (1:24:  27 AM   PAGE   3/010   Fax Server*INECONST*                                            Informed ConsePatient Name:                                                                                      Date of Birth:Informed Consent for (treatment/procedure):Hor Suid Oxtincqiaw, WLM                 (Provider) to perform the treatment or procedure at(Facility).  am aware that the licensed provider and those assisting the licensedprovider may ofmay not be an employee of Facility. I understand that other licensed providers, including residents and othermedical practitioners who are not doctors, such as students, may perform important tasks related to the treatment or procedurebut will only do so within their scope of practice based on their skill setor per the privileges granted by Facility and whenapplicable, under the supervision of the licensed provider named above.I g ve my consent fiI give my consent for blood and/or blood products if I need them. I know that blood and blood products can cause allergic response, fever and hives. I know the American Red Cross blood bank screens donors for infections and diseases, but 1 amaware there is a risk of infection.If I DO NOT want blood or blood products, I will initial here:                  AND fill out the Release of Liability (Refusal toSubmit to Treatment) form.Either my provider or the one listed above has explained to me: the nature, purpose, and expected benefits of the proposed procedure(s);* the material risks and possible complications of the proposed procedure(s), including the risk that treatment may notaccomplish the desired objective(s);any significant alternative treatments, including the risks and benefits;the likelihood of success and problems that may be related to recuperation;the possible risks and prognosis if no treatment is rendered; andany anesthesia or sedation to be used.Tam aware of risks that can occur during this procedure. They include, but are not limited to, the following:painsevere loss of bloodinfectionheart and breathing stoppedbreathing problemspneumoniadamage to blood vessels, nerves or organsallergic reactioninjury from pressure or position during proceduredeathblood clot                                                                          Ludwig, Candia S                 Date:DOB:        06/01/1980F 6lyBlessing Hospital | Idini Community Hospital | Blessing Surgery Center                       Acct:          000136426-4002274362ID: 7775659Loc:RadiologyPagePhysician. Pimlott, Bryan J03/2020Retrieved 1/24/2022, Official copy located at https://blessing-forms.poli¢   contZZOT/SB/TO\",\n",
    "\"Fax Server          2/29/2022  (1:24:  27 AM   PAGE   4/Q10   Fax ServerPatient Name:                                                                                      Date of Birth:Tam aware that during the procedure the following can occur:¢   Another problem might be found that would require an additional or different procedure from what has been planned; Iunderstand that this might require a surgeon other than the licensed provider listed above who also may or may not be anemployee of Facility.e I may be given blood or blood components, drugs, etc.« [may need X-rays or other testing.*   Dentures, bridges, caps, crowns, and fillings could be damaged (it is best to take out all removable dental devices orteeth).e   Any body parts or prosthetic devices that are taken out during the procedure will be disposed of by Facility.e   There may be observers, medical device representatives, pictures or video taken for the purpose of medical educationand if so, my identity will be protected.e   Iff have a $!!$Do Not Resuscitate$!!$ or $!!$Limited Code$!!$ request, it will not be honored during the procedure or during therecovery time after the procedure.INFORMED CONSENT ACKNOWLEDGEMENT AND DECLARATIONPatient/Legal Representative Acknowledgement: I certify that I have read or had read to me, and understand the aboveconsent for treatment/procedure. All questions I have concerning the treatment and/or procedure have been answered and theexplanations given were made to my satisfaction, I believe that I have the knowledge upon which to base consent to theproposed treatment and/or procedure.I know I can change my mind about the consent at any time before treatment. I know that I must tell the health care staff caringfor me if change my mind.I hereby give my voluntary consent to have this treatment, procedure and/or operation performed.Name of interpreter (if applicable)           If signed by other than patient, indicate the relationshipDate                    Time                      Signature of Staff WitnessLicensed Provider Declaration: I have explained the nature, purpose, material risks, potential benefits, complications andalternatives of the above proposed treatment, procedure and/or operation to the above named patient/legal representative. I haveanswered all of the questions that have been raised by the patient/legal representative. To the best of my knowledge, I believe thepatient/legal representative has been adequately informed and has consented to the proposed treatment, procedure and/oroperation.Date                        TimeBlessing Hosp tal    lint Communi ty Hospitalal Blessing Surgery CenterID: 7775659Page 2 of 203/2026Retrieved 1/24/2022. Official copy located at https: //b lessing orms.polieystat       comtenatureLicensed Providerbid:DateTime                     Siknature of Patient/Legal Rejfesentative02/25/2022\"\n",
    "\"Fax Server                2/297 2022il:24:27 AM   PAGE2/010     Fax ServerMIRE Sereening Assessment™NoN ferme  Ado:  osm Rig ae'ya pay     REVOVE DEX       HEARING          ASD AEEOU PEE RC IAG PRIOR LO PROC ED RSLudwig, Candia 5\",\n",
    "\"09/15/2008  4:20:11 PMSEDGWICK CMS                  PAGE 6  OF 91-11-2008   09:31AM    FROM- F-T781-424CHICAGO  INSTITUTE  Ls]MEUROSURGERY  AND   NHURORRRRARCHINGALLS  HOSPITALTI W. I56TH ST. SUITE 208  HARVEY, ILLINGIS co4icT: 708331 6569   F: 708 333 2902CHART  NOTEName:                   Shirley Collins                                     MR #:       000237521Attending:             Howard Robinson, M.D.                    Date:     January 10, 2008DOB:                  October 15, 1947                             TID #:      20818816Ms. Collins is a very pleasant woman who is seen for routine physiatric followup of her significimt low backpain and neck pain.She was last seen by me on 12/27/07, and at that time underwent bilateral L5 transforaminal epidural steroidinjections under fluoroscopic guidance.She notes excellent improvement of her low back pain. Unfortunately, she notes that she is getting significantneck pain.Her neck we last injected in January of 2006, She is requesting repeat injections.CURRENT MEDICATIONS: Mobic, Neurontin, Premarin and Clarinex.ALLERGIES: She has no known drug allergies,PHYSICAL EXAMINATION: She does not demonstrate any focal weakness.IMPRESSION:1. Neck pain related to her cervical facet syndrome.2, Previous multilevel cervical laminectomy and cervical facet syndrome.3. EMG suggestive ofC7 radiculopathy on the left side.4, Low back pain related to her L4-5 spinal stenosis with grade I slip.5. Bilateral hand numbness and tingling with left hand symptoms suggestive of a complex regienal painsyndrome type I.PLAN:L. We will have her in for treatment of her neck pain with bilateral C4-5, C5-6 and C6-7 facet joint injectionsELMHURST MEMORIAL       HIGHLAND PARKINGALLS HOSPITAL    NEUROLOGIC                 RUSH UNIVERSITY      SKOKIE        VERNON HILLSCENTER FOR HEALTH                                                                          & ORTHOPEDIC                  MEDICAL CENTERINSTITUTE OF CHICAGONEURDRADIOLOGIST1, Thomas Brown, MD         Martin G. Luken II, MD       Brian A. Couri, MD          Min Kyung Kim, MD           Charles C. Wang, MD      Thomas J, Grabelny, MDNEUROSURGEONSPHYSTATRISTSNEUROLOGISTSINTERVENTIONALLeonard J. Cerullo, MDEdward H. Mkrdlchlan, MD    Lawrence W, Frank, MD     Howard W. Robinson, MD     Steven M. Zak, MDDaniel 1. Hurley, MDChristine M. Villach, MDKenneth 9. Melferman, MD    Sam] Rosenblatt, MDDemetrius Klee Lopes, MD     Noam ¥. Stadlan, MDDean G. Karghallas, MDGail L. Resseau, MD9/11/2008                          0027692319522008091 10040979/15/2008                          0027692319                     §220080915012063\",\n",
    "\"09/15/2008  4:20:11 PMSEDGWICK CMS                  PAGE  7  OF 91-11-2008   09:32AM    FROM F-T781-424RE: Shirley Collins10/15/1947Page 2under fluoroscopic guidance and contrast enhancement.2, I will see her two weeks after our injections for continued close physiatric follow up.4, She will continue to werk on a light duty basis.Howard Robinson, M.D.Dictated but not Read to Expedite Delivery9/11/2008                          0027692319522008091 10040979/15/2008                          0027692319                     §220080915012063\",\n",
    "\"09/15/2008  4:20:11 PMSEDGWICK CMSOF 9PAGE 81-11-2008   09:32AM    FROM1-424ME Numer,Seoul Nunebuy                 O0000U198:                 95LocauowW2E NJELCallas, ShuleyIDBatt72DATE OF                       24/9372000IGDAY ©  FROCCLIURL:   OuseCeval cd-5,  $-G   Snel 5-7 Facel joneMeltoumed under fluor  cpic guila atDIAGNOS TS AND INDICATIONS1.   Ceryice    facet  syndraire.2.   Weel: poiEP vl  PPCSELUEE hao   lawl multapl- t  eetToese wers rostly done da        u  and LOO$!!$,ALLENGIEG AND AFVISOAGULANTS    Per the chert.PROGHANIC   ILL     fo   ap   a ODANDSGTHESIA.    Local  -HCDIGATICL( & Laide  uire  thaut  a   tpl   ie wall3 toi leg (1G 2510)  fur   tee       baal  op  ngjet: t1 tlitews  were utrliFIUORORCGPY,   Slrarghe ASused  to verify cona gaintam and ronvassula: flowternPRICLNUPE NuTR                     teas sbbir   dando was dh cu ad    fiohFI eg   te   to pp     lap]inthe  us   =    fashian,  tu  che geene positionTI    Coy  rasT wat Laid     rgtiek + tarT  Uothe  raz   ry   a     tle   ale   i1  vate  ace  std lelse    3  WT si  cenpression should ge                   by Lowe                  dele,  WP wa  kus  sch,ity                h                               tTriad ar    v    $!!$         ate  woe  ble tal pase  A + tlust                        Ne   ll    Was  po,  all wac31           ae woe   cis 4   al  pope   sem om  eng Ig vue    Wen  r           Woantucel  co piedice a yout.    tel  jot     null  Gf wll, Yd ronAnd           sdural rlaw ra  tein   Pou                £ aDiL   of              why thelle wis    o  plope   wid  © re po ition  *    b  the yeu    eel    ne    Loci  1°da enally berene  LitVe,  oar£                 iilu  an                         u 1tis. te  $!!$ce  ne blood, tlu d  ar  oisTin   eanye t  ad Je       daj   Led  wel- adast-. abave an Pho  duraTie Petters tol dated   he prog                     ni  ms  a                     4 tru er nypast  hoo    eet  Tho pacd  ate ca    anlTeCOPY BOR TOWARD KOBRER        fale9/11/2008                        00276923199/15/2008                          0027692319522008091 1004097§220080915012063\"\n",
    "\"SEDGWICKPO Box 14446Lexington, KY 40512-4521:Phone: 888-777-7039    Fax: 312-347-6800February 12, 2013DANIEL J VANDENBERG MD SC71 W 156 STREET STE 311HARVEY, IL 60426RETURN TO PROVIDERTo Whom It May Concern:Claim Number: 0027692319Claimant Name: SHIRLEY COLLINSDate of Injury: 05/03/2002SSN: XXX-XX-2144Employer: Chicago Public SchoolsSedgwick administers employee claim benefits for multiple clients. We are unable to process the enclosed documents for thereason(s) indicated below.e  ILLEGIBLE BILLThank you for your assistance,Janet MooreCC:\"\n",
    "\n",
    "]\n",
    "\n",
    "text = \t[\n",
    "    #unseen data\n",
    "\t\t\"IN THE NAME OF THE PEOPLE OF THE STATE OF ILLINOISILLINOIS WORKERS' COMPENSATION COMMISSIONSUBPOENAgee   DsPsMARIA SANCHEZ,                                                                           Case # 21 WC 24832Employee/PetitionerV.                                                                                                          CHICAGOCHRIST HOSPITAL,Employer/RespondentTo:    VIA U.S. MAILATTN: MEDICAL RECORDSBridgeview Medical Center7124 West 83$!!$ Street                                URGENT SUBPOENA REQUESTThis Subpoena will not require your personalappearance if you submit either your original or legiblephotocopies of your original records by the dateindicated below. A$25.00subpeenafeeisenelosed.:Bridgeview, IL 60455YOU ARE COMMANDED TO PROVIDE THE FOLLOWING ITEMS THAT ARE IN YOUR POSSESSION OR CONTROL:ANY AND ALL ANY AND ALL reports and films; any diagnostic studies of any kind on CD including butnot limited to MRI's, X-Rays, and CT Scans, any and all written records and other documents in yourpossession or control pertaining to MARIA SANCHEZ (last known address: 5114 W. 113th Place, Alsip, IL60803; DOB: 04/23/1966; DOA: 01/19/2021; SSN: ***-**-****) FROM 01/01/2021 TO THE PRESENTDATE.WE ARE REQUESTING THE REQUESTED MEDICAL RECORDS BE PROVIDED IN ELECTRONICFORMAT, EITHER VIA EMAIL TO THE UNDERSIGNED ATTORNEY, OR ON DISK. IF RECORDSARE NOT STORED ELECTRONICALLY, PLEASE CONTACT THE OFFICE TO PROVIDE ANEXPLANATION AS REQUIRED BY 735 ILCS 5/8-2001 BEFORE TRANSMITTING PAPER RECORDS.   MAIL THE ITEMS TO THE ADDRESS:Padraig McCoid of Nyhan, Bambrick, Kinzie & Lowry, P.C.20 North Clark Street, Suite 1000Chicago, Illinois 60602-4195Fax: 312.629.8518Or via email to the undersigned attorneyBY THE DATE NOVEMBER 11, 2022. YOU DO NOT NEED TO APPEAR AT THE COMMISSION. DO NOT MAILTHE ITEMS TO THE COMMISSION.Padraig McCoid                                               (312) 629-9800                                  records@nbklilaw.comName of person requesting this subpoena                      Telephone number                                 Email addressFAILURE TO RESPONDTO THIS SUBPOENA MAY SUBJECTYOU TO THE PENALTIESNA,PRESCRIBED BY LAW.(SEE STATUTES: 820 ILCS 305/16; RULES: 7030.50)         J. BrennenDate: October 31, 2022IC16 3/1069 W. Washington Street, Suite 900 Chicago, IL 60602 312/814-6611 Toll-free 866/352-3033 Web site: www.iwece..govDownstate offices: Collinsville 618/346-3450  Peora 309/671-3019  Rockford 815/987-7292  Springfield 217/785-708400191 1-139D\",\n",
    "\t\t\"Chart NotesBRIDGEVIEW CHIROPRACTIC CENTER7124 WEST 83RD STREETMaria Sanchez                                                                                         BRIDGEVIEW IL 60455Phone: (708)599-9250Fax: (708)599-9470Patient: Sanchez, Maria                Acct #: 95240                       DOB: 04/23/1966Ins Co:                                           Pol #:                                            Insured ID:Date    02/19/2021Provider: Rashid Abu-Shanab, DC, MS, IMESubjective:Daily Encounter: treatment for acute/active care- Chief Complaint: lumbar, left lumbar, right lumbar, lower thoracic and sacral dull and aching discomfort.~ Subjective/Patient Assessment: Maria stated this complaint has improved since the last visit.  She reportsher ability to participate with walking, traveling and/or driving, standing, sitting and lifting has improved with thiscomplaint while lying down, walking, standing and sitting. 5/10 reported using the Visual Analog Scale.Objective:Daily Objective Findings:- Spinal Restriction(s)/Subluxation(s): right L3, left L4, left L5, right sacrum, left pelvis and right pelvis- Extraspinal Restrictions/Subluxations: Localized Lower back.- Pain/Tenderness: lower lumbar, lumbo-sacral and sacral- Postural Analysis: Decreased Cervical spine Lordosis .- Muscle Spasm(s): moderate muscle spasms in the following areas; left lumbar, lumbar, right lumbar, leftsacroiliac and right sacroiliac.- ROM Concern(s): lumbar flexion and lumbar extension was recorded as moderately reduced with painnoted.Assessment:Lumbar spine Disc HNPLumbar spine SpondylosthesisAssociated Muscle SpasmLS Xrays 02/05/2021In the coronal plane there is pelvic unleveling, high on the right with a left lateral lumbar list.Sagittal plane alignment demonstrates an anterolisthesis of L4 on L5 of less than 25% withfacet proliferation. Mild disc thinning is seen at most lumbar levels with minimal marginalosseous vertebral body proliferation. Vertebral body heights are well maintained. There aresurgical clips in the abdomen.Impressions:1.  Postural alteration as stated above.2. Mild multilevel degenerative disc disease and spondylosis.Plan:Reviewed of findings with patient, Informed patient of treatment plan with risks and benefits,patient consented to treatment, all questions answered prior to treatment.Printed: Monday, December 12, 2022 3:07:40 PM                                                                              Page 1  Of  10\",\n",
    "\t\t\"Chart NotesBRIDGEVIEW CHIROPRACTIC CENTER7124 WEST 83RD STREETMaria Sanchez                                                                                      BRIDGEVIEW IL 60455Phone: (708)599-9250Fax: (708)599-9470Patient: Sanchez, Maria                Acct #: 95240                      DOB: 04/23/1966Ins Co:                                               Pol #:                                               Insured ID:Date    02/19/2021Provider: Rashid Abu-Shanab, DC, MS, IME                                    *** continued from previous page ***ROF of the Lumbar spine XraysIFC, HMP, Joint MobilizationSI and Squat exercisesCMT of the lumbar spine- Advised- Tx Effect: Treatment rendered without incident and responding as expected.- Next Visit: continue with treatment plan as scheduledElectronically SignedRashid Abu-Shanab, DC.  MS. IME 02/19/2021 06:39 PMPrinted: Monday, December 12, 2022 3:07:44 PM                                                       Page 2  Of  10\",\n",
    "\t\t\"Chart NotesBRIDGEVIEW CHIROPRACTIC CENTER7124 WEST 83RD STREETMaria Sanchez                                                                                         BRIDGEVIEW IL 60455Phone: (708)599-9250Fax: (708)599-9470Patient: Sanchez, Maria                Acct #: 95240                      DOB: 04/23/1966Ins Co:                                               Pol #:                                               Insured ID:Date    02/18/2021Provider: Rashid Abu-Shanab, DC, MS, IMESubjective:Feeling the left lower back improving, the left thigh is sore and feeling numbness and feelingsorenessObjective:Daily Objective Findings:- Spinal Restriction(s)/Subluxation(s): right L3, left L4, left L5, rignt sacrum, left pelvis and right pelvis- Extraspinal Restrictions/Subluxations: Localized Lower back.- Pain/Tenderness: lower lumbar, lumbo-sacral and sacral- Postural Analysis: Decreased Cervical spine Lordosis .- Muscle Spasm(s): moderate muscle spasms in the following areas; left lumbar, lumbar, right lumbar, leftsacroiliac and right sacroiliac.- ROM Concern(s): lumbar flexion and lumbar extension was recorded as moderately reduced with painnoted.Assessment:Lumbar spine Disc HNPLumbar spine SpondylosthesisAssociated Muscle SpasmLS Xrays 02/05/2021In the coronal plane there is pelvic unleveling, high on the right with a left lateral lumbar list.Sagittal plane alignment demonstrates an anterolisthesis of L4 on L5 of less than 25% withfacet proliferation. Mild disc thinning is seen at most lumbar levels with minimal marginalosseous vertebral body proliferation. Vertebral body heights are well maintained. There aresurgical clips in the abdomen.Impressions:1.   Postural alteration as stated above.2. Mild multilevel degenerative disc disease and spondylosis.Pian:Reviewed of findings with patient, Informed patient of treatment plan with risks and benefits,patient consented to treatment, all questions answered prior to treatment.ROF of the Lumbar spine XraysIFC, HMP, Joint MobilizationPrinted: Monday, December 12, 2022 3:07:47 PM                                                                          Page 3  Of  10\",\n",
    "\t\t\"Chart NotesBRIDGEVIEW CHIROPRACTIC CENTER7124 WEST 83RD STREETMaria Sanchez                                                                                      BRIDGEVIEW IL 60455Phone: (708)599-9250Fax: (708)599-9470Patient: Sanchez, Maria                Acct #: 95240                       DOB: 04/23/1966Ins Co:                                               Pol #:                                               Insured ID:Date    02/18/2021Provider: Rashid Abu-Shanab, DC, MS, IME                                    *** continued from previous page ***SI and Squat exercisesCMT of the lumbar spine- Advised- Tx Effect: Treatment rendered without incident and responding as expected.- Next Visit: continue with treatment plan as scheduledElectronically SignedRashid Abu-Shanab. DC. MS. IME 02/18/2021 06:23 PMPrinted: Monday, December 12, 2022 3:07:47 PM                                                                   Page 4  Of  10\",\n",
    "\t\t\"Chart NotesBRIDGEVIEW CHIROPRACTIC CENTER7124 WEST 83RD STREETMaria Sanchez                                                                                   BRIDGEVIEW IL 60455Phone: (708)599-9250Fax: (708)599-9470Patient: Sanchez, Maria                Acct#: 95240                       DOB: 04/23/1966Ins Co:                                               Pol #:                                               Insured ID:Date    02/05/2021Provider:  Rashid Abu-Shanab, DC,MS,IME continued from previous page ***See PhysicalAssessment:Lumbar spine Disc HNPLumbar spine SpondylosthesisAssociated Muscle SpasmPlan:Reviewed of findings with patient, Informed patient of treatment plan with risks and benefits,patient consented to treatment, all questions answered prior to treatment.Lumbar spine XraysIFC, HMP, Joint MobilizationSI and Squat exercisesgentle cavitation- Advised- Tx Effect: Treatment rendered without incident and responding as expected.- Next Visit: continue with treatment plan as scheduledElectronically SignedRashid Abu-Shanab. DC.  MS. IME 02/05/2021 12:16 PMPrinted: Monday, December 12, 2022 3:07:51 PM                                                             Page 10 Of  10\",\n",
    "\t\t\"PHYSICALMINATION:VISUAL EVA LUATIONA. Patient Build1, Slim2. Well Proportioned3. Husky4, Slightly5. ObeseOverweightB. Carriage & Gate1. Normal3. Noticeably4. Extremely§. Unable to Work2. Slightly DifficultDifficultDificultC. Patient Movements2. Restricted3. Slow4, GuardedD. Antalgic Position3, Midback4, Lowback Lit/Rght1. HEIGHT & WEIGHT5. MUSLE TESTS                                                                       Trapezius                                    (0-5)2. VITAL SIGNS                                      (0-5)Biceps                                         (0-5)Triceps                                        (0-5)Hamstrings                                  (0-5)Psoas                                          (0-5)Blood Pressures                                                       Anterior Tibial                       (0-5)Peroneus Longus                       (0-5)Sitting                        Extensor Hallucis                        (0-5)Supine                                                        Gastrocnemis                              (0-5)Standing1. Normal ht    2. ArmLeftRightyNeck Flexors(0-5)Height Feet    Inches    Weight-lbsNeck Extensors                                   (0-5)DeltoidsTempaturePulseRespirationQuadriceps(0-5)Gluteus                                            (0-5)Vertebral Artery Screen  Pos.    Neg.6. NEUROLOGICALS (Dermotomal Testing)REP TENDON REFLEXES0=Absent 1=Hypo 2=Normal 3=Hyper 4=Very Hyper4, DYNOMOMETERPatient is: Left Handed    Right HandedHckLEVEL  LEFT   RIGHTCiC2C3C4C5C6C7C8TiT2T3T4TST6    :TST9T10TilT12LiL2L3WAMLS$1LEFTRIGHTBicepsTricepsBrachioradialisPatellarAchillesPathological13:1817::19TisLEFTRIGHTFirst TrySecond TryThird Try:17\",\n",
    "\t\t\n",
    "\t\t\n",
    "\t\t]\n",
    "ImageText_Non_Blank_header_5_pipe(text)\n"
   ]
  }
 ],
 "metadata": {
  "accelerator": "GPU",
  "colab": {
   "authorship_tag": "ABX9TyMwuVYuaFkZ/y5xy7Hf4zmU",
   "include_colab_link": true,
   "machine_shape": "hm",
   "mount_file_id": "1CxBXL1gdvrKq9drVSsVTCFucOUfLLR5h",
   "provenance": []
  },
  "gpuClass": "standard",
  "kernelspec": {
   "display_name": "Python 3 (ipykernel)",
   "language": "python",
   "name": "python3"
  },
  "language_info": {
   "codemirror_mode": {
    "name": "ipython",
    "version": 3
   },
   "file_extension": ".py",
   "mimetype": "text/x-python",
   "name": "python",
   "nbconvert_exporter": "python",
   "pygments_lexer": "ipython3",
   "version": "3.10.6"
  }
 },
 "nbformat": 4,
 "nbformat_minor": 4
}
